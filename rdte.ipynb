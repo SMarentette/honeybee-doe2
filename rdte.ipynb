{
 "cells": [
  {
   "cell_type": "code",
   "execution_count": 1,
   "metadata": {},
   "outputs": [],
   "source": [
    "from honeybee.model import Model\n",
    "from honeybee.room import Room\n",
    "from honeybee.face import Face\n",
    "from honeybee.shade import Shade\n",
    "from honeybee.aperture import Aperture\n",
    "from honeybee.door import Door\n",
    "from honeybee.boundarycondition import Surface\n",
    "from honeybee.facetype import face_types\n",
    "from honeybee.units import conversion_factor_to_meters\n",
    "\n",
    "from ladybug_geometry.geometry3d.pointvector import Point3D, Vector3D\n",
    "from ladybug_geometry.geometry3d.plane import Plane\n",
    "from ladybug_geometry.geometry3d.face import Face3D\n",
    "\n",
    "from honeybee_doe2.writer import model_to_inp #prolly need to add this as a model function... \n",
    "from pprint import pprint\n",
    "\n",
    "\n",
    "tmodel = Model.from_hbjson('samples\\cubetower.hbjson')\n",
    "\n",
    "\n",
    "\n"
   ]
  },
  {
   "cell_type": "code",
   "execution_count": 2,
   "metadata": {},
   "outputs": [
    {
     "name": "stdout",
     "output_type": "stream",
     "text": [
      "\"Double Low-E Window\" = GLASS-TYPE\n",
      "   TYPE               = SHADING-COEF\n",
      "   SHADING-COEF       = 0.48810970326870606\n",
      "   GLASS-CONDUCT      = 0.299\n",
      "   ..\n",
      "\n"
     ]
    }
   ],
   "source": [
    "from honeybee_energy.material.glazing import EnergyWindowMaterialGlazing\n",
    "from honeybee_energy.material.gas import EnergyWindowMaterialGas\n",
    "from honeybee_energy.construction.window import WindowConstruction\n",
    "\n",
    "from honeybee_doe2.properties.inputils.glass_types import GlassType\n",
    "\n",
    "\n",
    "lowe_glass = EnergyWindowMaterialGlazing(\n",
    "        'Low-e Glass', 0.00318, 0.4517, 0.359, 0.714, 0.207,\n",
    "        0, 0.84, 0.046578, 1.0)\n",
    "clear_glass = EnergyWindowMaterialGlazing(\n",
    "        'Clear Glass', 0.005715, 0.770675, 0.07, 0.8836, 0.0804,\n",
    "        0, 0.84, 0.84, 1.0)\n",
    "gap = EnergyWindowMaterialGas('air gap', thickness=0.0127)\n",
    "double_low_e = WindowConstruction(\n",
    "        'Double Low-E Window', [lowe_glass, gap, clear_glass])\n",
    "\n",
    "test_type = GlassType.from_hb_window_constr(double_low_e)\n",
    "print(test_type.to_inp())"
   ]
  },
  {
   "cell_type": "code",
   "execution_count": 3,
   "metadata": {},
   "outputs": [
    {
     "name": "stdout",
     "output_type": "stream",
     "text": [
      "\"Walltest Plg\" = POLYGON\n",
      "   V1        = ( 0.000000, 0.000000 )\n",
      "   V2        = ( 0.000000, 10.000000 )\n",
      "   V3        = ( 0.000000, 10.000000 )\n",
      "   V4        = ( 0.000000, 0.000000 )\n",
      "   ..\n"
     ]
    }
   ],
   "source": [
    "from honeybee.face import Face\n",
    "from honeybee.facetype import face_types, Wall\n",
    "from ladybug_geometry.geometry3d.face import Face3D\n",
    "from ladybug_geometry.geometry3d.pointvector import Point3D, Vector3D\n",
    "from ladybug_geometry.geometry3d.plane import Plane\n",
    "import uuid as py_uuid\n",
    "from honeybee_doe2.geometry.polygon import DoePolygon as doepoly\n",
    "from pprint import pprint\n",
    "\n",
    "vertices = [Point3D(0, 0, 0), Point3D(0, 10, 0), Point3D(0, 10, 3), Point3D(0, 0, 3)]\n",
    "\n",
    "unique_id = str(py_uuid.uuid4())\n",
    "face = Face(unique_id, Face3D(vertices))\n",
    "face.display_name = 'Walltest'\n",
    "\n",
    "\n",
    "testpoly = doepoly.from_face(face)\n",
    "pprint(testpoly)"
   ]
  },
  {
   "cell_type": "code",
   "execution_count": 4,
   "metadata": {},
   "outputs": [
    {
     "name": "stdout",
     "output_type": "stream",
     "text": [
      "\"Walltest Plg\" = POLYGON\n",
      "   V1        = ( 0.000000, 0.000000 )\n",
      "   V2        = ( 0.000000, 10.000000 )\n",
      "   V3        = ( 0.000000, 10.000000 )\n",
      "   V4        = ( 0.000000, 0.000000 )\n",
      "   ..\n"
     ]
    }
   ],
   "source": [
    "print(face.properties.doe2.poly)"
   ]
  },
  {
   "cell_type": "code",
   "execution_count": 5,
   "metadata": {},
   "outputs": [
    {
     "name": "stdout",
     "output_type": "stream",
     "text": [
      "TITLE\n",
      "    LINE-1           = *sdf*\n",
      "    ..\n"
     ]
    }
   ],
   "source": [
    "from honeybee_doe2.properties.inputils.title import Title\n",
    "\n",
    "test = Title(title='sdf')\n",
    "print(str(test.to_inp()))"
   ]
  },
  {
   "cell_type": "code",
   "execution_count": 6,
   "metadata": {},
   "outputs": [
    {
     "name": "stdout",
     "output_type": "stream",
     "text": [
      "$---------------------------------------------------------\n",
      "$              Site and Building Data\n",
      "$---------------------------------------------------------\n",
      "\n",
      "\"Site Data\" = SITE-PARAMETERS\n",
      "  ALTITUDE          = 150\n",
      "  C-STATE           = 21\n",
      "  C-WEATHER-FILE    = *TMY2\\HARTFOCT.bin* \n",
      "  C-COUNTRY         = 1\n",
      "  C-901-LOCATION    = 1092\n",
      "  ..\n",
      "\"Building Data\" = BUILD-PARAMETERS\n",
      "  HOLIDAYS        = \"Standard US Holidays\"\n",
      "  ..\n",
      "\n",
      "\n",
      "PROJECT-DATA\n",
      "  ..\n",
      "\n",
      "\n"
     ]
    }
   ],
   "source": [
    "from honeybee_doe2.properties.inputils.sitebldg import SiteBldgData as sbd\n",
    "\n",
    "\n",
    "\n",
    "abc = sbd()\n",
    "\n",
    "print(abc.to_inp())"
   ]
  },
  {
   "cell_type": "code",
   "execution_count": 7,
   "metadata": {},
   "outputs": [
    {
     "name": "stdout",
     "output_type": "stream",
     "text": [
      "\"mybox\" = SPACE\n",
      "   SHAPE           = POLYGON\n",
      "   POLYGON         = \"mybox Plg\"\n",
      "   C-ACTIVITY-DESC = *Program Type: Plenum*\n",
      "   ..\n",
      "\n",
      "None\n"
     ]
    }
   ],
   "source": [
    "from honeybee.room import Room\n",
    "\n",
    "room = Room.from_box('mybox', 3,3,3)\n",
    "\n",
    "\n",
    "print(room.properties.doe2.space)\n",
    "print(room.properties.doe2.poly)"
   ]
  },
  {
   "cell_type": "code",
   "execution_count": null,
   "metadata": {},
   "outputs": [],
   "source": []
  },
  {
   "cell_type": "code",
   "execution_count": 1,
   "metadata": {},
   "outputs": [
    {
     "data": {
      "text/plain": [
       "\"Walltest Plg\" = POLYGON\n",
       "   V1        = ( 0.000000, 0.000000 )\n",
       "   V2        = ( -10.000000, 0.000000 )\n",
       "   V3        = ( -10.000000, -3.000000 )\n",
       "   V4        = ( 0.000000, -3.000000 )\n",
       "   .."
      ]
     },
     "execution_count": 1,
     "metadata": {},
     "output_type": "execute_result"
    }
   ],
   "source": [
    "from honeybee.face import Face\n",
    "from honeybee.facetype import face_types, Wall\n",
    "from ladybug_geometry.geometry3d.face import Face3D\n",
    "from ladybug_geometry.geometry3d.pointvector import Point3D, Vector3D\n",
    "from ladybug_geometry.geometry3d.plane import Plane\n",
    "import uuid as py_uuid\n",
    "from honeybee_doe2.geometry.polygon import DoePolygon as doepoly\n",
    "from pprint import pprint\n",
    "\n",
    "vertices = [Point3D(0, 0, 0), \n",
    "            Point3D(0, 10, 0), \n",
    "            Point3D(0, 10, 3), \n",
    "            Point3D(0, 0, 3)]\n",
    "\n",
    "unique_id = str(py_uuid.uuid4())\n",
    "test_face = Face(unique_id, Face3D(vertices))\n",
    "test_face.display_name = 'Walltest'\n",
    "\n",
    "class WallStuff:\n",
    "    def __init__(self, _face):\n",
    "        self.host = _face\n",
    "        \n",
    "    @property\n",
    "    def wall_poly(self):\n",
    "        return self._create_wall_poly(self.host)\n",
    "    \n",
    "    @staticmethod\n",
    "    def _create_wall_poly(obj):\n",
    "        return doepoly.from_vertices(name=obj.display_name, vertices=obj.geometry.polygon2d.vertices)\n",
    "        \n",
    "        \n",
    "mywall = WallStuff(test_face)\n",
    "\n",
    "mywall.wall_poly"
   ]
  },
  {
   "cell_type": "code",
   "execution_count": 2,
   "metadata": {},
   "outputs": [
    {
     "data": {
      "text/plain": [
       "\"Walltest Plg\" = POLYGON\n",
       "   V1        = ( 0.000000, 0.000000 )\n",
       "   V2        = ( -10.000000, 0.000000 )\n",
       "   V3        = ( -10.000000, -3.000000 )\n",
       "   V4        = ( 0.000000, -3.000000 )\n",
       "   .."
      ]
     },
     "execution_count": 2,
     "metadata": {},
     "output_type": "execute_result"
    }
   ],
   "source": [
    "from honeybee_doe2.properties.wall import DoeWall\n",
    "\n",
    "new_wall = WallStuff(test_face)\n",
    "new_wall.wall_poly\n"
   ]
  },
  {
   "cell_type": "code",
   "execution_count": 1,
   "metadata": {},
   "outputs": [
    {
     "ename": "IndexError",
     "evalue": "Replacement index 1 out of range for positional args tuple",
     "output_type": "error",
     "traceback": [
      "\u001b[1;31m---------------------------------------------------------------------------\u001b[0m",
      "\u001b[1;31mIndexError\u001b[0m                                Traceback (most recent call last)",
      "Cell \u001b[1;32mIn [1], line 26\u001b[0m\n\u001b[0;32m     22\u001b[0m room \u001b[38;5;241m=\u001b[39m Room\u001b[38;5;241m.\u001b[39mfrom_box(\u001b[38;5;124m'\u001b[39m\u001b[38;5;124mmybox\u001b[39m\u001b[38;5;124m'\u001b[39m, \u001b[38;5;241m3\u001b[39m,\u001b[38;5;241m3\u001b[39m,\u001b[38;5;241m3\u001b[39m)\n\u001b[0;32m     24\u001b[0m mywall \u001b[38;5;241m=\u001b[39m DoeWall(_face\u001b[38;5;241m=\u001b[39mroom\u001b[38;5;241m.\u001b[39mfaces[\u001b[38;5;241m1\u001b[39m])\n\u001b[1;32m---> 26\u001b[0m mywall\u001b[38;5;241m.\u001b[39mwall_obj\n",
      "File \u001b[1;32md:\\_BR+A\\_aBasecamp\\___bra_git_org\\honeybee-doe2\\honeybee_doe2\\properties\\wall.py:34\u001b[0m, in \u001b[0;36mDoeWall.wall_obj\u001b[1;34m(self)\u001b[0m\n\u001b[0;32m     27\u001b[0m \u001b[39m@property\u001b[39m\n\u001b[0;32m     28\u001b[0m \u001b[39mdef\u001b[39;00m \u001b[39mwall_obj\u001b[39m(\u001b[39mself\u001b[39m):\n\u001b[0;32m     29\u001b[0m     \u001b[39m\"\"\"_summary_\u001b[39;00m\n\u001b[0;32m     30\u001b[0m \n\u001b[0;32m     31\u001b[0m \u001b[39m    Returns:\u001b[39;00m\n\u001b[0;32m     32\u001b[0m \u001b[39m        _type_: _description_\u001b[39;00m\n\u001b[0;32m     33\u001b[0m \u001b[39m    \"\"\"\u001b[39;00m\n\u001b[1;32m---> 34\u001b[0m     \u001b[39mreturn\u001b[39;00m \u001b[39mself\u001b[39;49m\u001b[39m.\u001b[39;49m_create_wall_obj(\u001b[39mself\u001b[39;49m\u001b[39m.\u001b[39;49mface)\n",
      "File \u001b[1;32md:\\_BR+A\\_aBasecamp\\___bra_git_org\\honeybee-doe2\\honeybee_doe2\\properties\\wall.py:45\u001b[0m, in \u001b[0;36mDoeWall._create_wall_obj\u001b[1;34m(obj)\u001b[0m\n\u001b[0;32m     43\u001b[0m origin_pt \u001b[39m=\u001b[39m obj\u001b[39m.\u001b[39mgeometry\u001b[39m.\u001b[39mlower_left_counter_clockwise_vertices[\u001b[39m0\u001b[39m]\n\u001b[0;32m     44\u001b[0m \u001b[39m# TODO add in the formatting stuff,\u001b[39;00m\n\u001b[1;32m---> 45\u001b[0m big_str \u001b[39m=\u001b[39m \u001b[39m'\u001b[39;49m\u001b[39m\"\u001b[39;49m\u001b[39m{}\u001b[39;49;00m\u001b[39m\"\u001b[39;49m\u001b[39m = \u001b[39;49m\u001b[39m{}\u001b[39;49;00m\u001b[39m-WALL\u001b[39;49m\u001b[39m'\u001b[39;49m\u001b[39m.\u001b[39;49mformat(p_name, ) \u001b[39m+\u001b[39m \\\n\u001b[0;32m     46\u001b[0m     \u001b[39m'\u001b[39m\u001b[39m\\n\u001b[39;00m\u001b[39m  POLYGON           = \u001b[39m\u001b[39m\"\u001b[39m\u001b[39m{}\u001b[39;00m\u001b[39m\"\u001b[39m\u001b[39m'\u001b[39m\u001b[39m.\u001b[39mformat() \u001b[39m+\u001b[39m \\\n\u001b[0;32m     47\u001b[0m     \u001b[39m'\u001b[39m\u001b[39m\\n\u001b[39;00m\u001b[39m  CONSTRUCTION      = \u001b[39m\u001b[39m\"\u001b[39m\u001b[39m{}\u001b[39;00m\u001b[39m\"\u001b[39m\u001b[39m'\u001b[39m\u001b[39m.\u001b[39mformat() \u001b[39m+\u001b[39m \\\n\u001b[0;32m     48\u001b[0m     \u001b[39m'\u001b[39m\u001b[39m\\n\u001b[39;00m\u001b[39m  TILT              = \u001b[39m\u001b[39m\"\u001b[39m\u001b[39m{}\u001b[39;00m\u001b[39m\"\u001b[39m\u001b[39m'\u001b[39m\u001b[39m.\u001b[39mformat() \u001b[39m+\u001b[39m \\\n\u001b[0;32m     49\u001b[0m     \u001b[39m'\u001b[39m\u001b[39m\\n\u001b[39;00m\u001b[39m  AZIMUTH           = \u001b[39m\u001b[39m\"\u001b[39m\u001b[39m{}\u001b[39;00m\u001b[39m\"\u001b[39m\u001b[39m'\u001b[39m\u001b[39m.\u001b[39mformat() \u001b[39m+\u001b[39m \\\n\u001b[0;32m     50\u001b[0m     \u001b[39m'\u001b[39m\u001b[39m\\n\u001b[39;00m\u001b[39m  X                 = \u001b[39m\u001b[39m\"\u001b[39m\u001b[39m{}\u001b[39;00m\u001b[39m\"\u001b[39m\u001b[39m'\u001b[39m\u001b[39m.\u001b[39mformat() \u001b[39m+\u001b[39m \\\n\u001b[0;32m     51\u001b[0m     \u001b[39m'\u001b[39m\u001b[39m\\n\u001b[39;00m\u001b[39m  Y                 = \u001b[39m\u001b[39m\"\u001b[39m\u001b[39m{}\u001b[39;00m\u001b[39m\"\u001b[39m\u001b[39m'\u001b[39m\u001b[39m.\u001b[39mformat() \u001b[39m+\u001b[39m \\\n\u001b[0;32m     52\u001b[0m     \u001b[39m'\u001b[39m\u001b[39m\\n\u001b[39;00m\u001b[39m  Z                 = \u001b[39m\u001b[39m\"\u001b[39m\u001b[39m{}\u001b[39;00m\u001b[39m\"\u001b[39m\u001b[39m'\u001b[39m\u001b[39m.\u001b[39mformat() \u001b[39m+\u001b[39m \\\n\u001b[0;32m     53\u001b[0m     \u001b[39m'\u001b[39m\u001b[39m\\n\u001b[39;00m\u001b[39m..\u001b[39m\u001b[39m\\n\u001b[39;00m\u001b[39m'\u001b[39m\n",
      "\u001b[1;31mIndexError\u001b[0m: Replacement index 1 out of range for positional args tuple"
     ]
    }
   ],
   "source": [
    "from honeybee.face import Face\n",
    "from honeybee.facetype import face_types, Wall\n",
    "from ladybug_geometry.geometry3d.face import Face3D\n",
    "from ladybug_geometry.geometry3d.pointvector import Point3D, Vector3D\n",
    "from ladybug_geometry.geometry3d.plane import Plane\n",
    "import uuid as py_uuid\n",
    "from honeybee_doe2.geometry.polygon import DoePolygon as doepoly\n",
    "from pprint import pprint\n",
    "from honeybee.room import Room\n",
    "\n",
    "vertices = [Point3D(0, 0, 0), Point3D(0, 10, 0), Point3D(0, 10, 3), Point3D(0, 0, 3)]\n",
    "\n",
    "unique_id = str(py_uuid.uuid4())\n",
    "test_face = Face(unique_id, Face3D(vertices))\n",
    "test_face.display_name = 'doetestwall'\n",
    "\n",
    "from honeybee_doe2.properties.wall import DoeWall\n",
    "\n",
    "mywall = DoeWall(_face=test_face)\n",
    "\n",
    "\n",
    "room = Room.from_box('mybox', 3,3,3)\n",
    "\n",
    "mywall = DoeWall(_face=room.faces[1])\n",
    "\n",
    "mywall.wall_obj"
   ]
  },
  {
   "cell_type": "code",
   "execution_count": null,
   "metadata": {},
   "outputs": [],
   "source": []
  },
  {
   "cell_type": "code",
   "execution_count": 2,
   "metadata": {},
   "outputs": [
    {
     "data": {
      "text/plain": [
       "\"doetestwall Plg\" = POLYGON\n",
       "   V1        = ( 0.000000, 0.000000 )\n",
       "   V2        = ( -10.000000, 0.000000 )\n",
       "   V3        = ( -10.000000, -3.000000 )\n",
       "   V4        = ( 0.000000, -3.000000 )\n",
       "   .."
      ]
     },
     "execution_count": 2,
     "metadata": {},
     "output_type": "execute_result"
    }
   ],
   "source": [
    "mywall.wall_poly"
   ]
  },
  {
   "cell_type": "code",
   "execution_count": 1,
   "metadata": {},
   "outputs": [
    {
     "ename": "NameError",
     "evalue": "name 'mywall' is not defined",
     "output_type": "error",
     "traceback": [
      "\u001b[1;31m---------------------------------------------------------------------------\u001b[0m",
      "\u001b[1;31mNameError\u001b[0m                                 Traceback (most recent call last)",
      "Cell \u001b[1;32mIn [1], line 1\u001b[0m\n\u001b[1;32m----> 1\u001b[0m mywall\u001b[38;5;241m.\u001b[39mwall_obj\n",
      "\u001b[1;31mNameError\u001b[0m: name 'mywall' is not defined"
     ]
    }
   ],
   "source": [
    "mywall.wall_obj"
   ]
  },
  {
   "cell_type": "code",
   "execution_count": null,
   "metadata": {},
   "outputs": [],
   "source": []
  }
 ],
 "metadata": {
  "kernelspec": {
   "display_name": "Python 3.9.5 ('.env': venv)",
   "language": "python",
   "name": "python3"
  },
  "language_info": {
   "codemirror_mode": {
    "name": "ipython",
    "version": 3
   },
   "file_extension": ".py",
   "mimetype": "text/x-python",
   "name": "python",
   "nbconvert_exporter": "python",
   "pygments_lexer": "ipython3",
   "version": "3.9.5"
  },
  "orig_nbformat": 4,
  "vscode": {
   "interpreter": {
    "hash": "f576465c0bc23e60f9adbda605c57e4ffa2e9d247e18f22fbcc9a9c90d757712"
   }
  }
 },
 "nbformat": 4,
 "nbformat_minor": 2
}
