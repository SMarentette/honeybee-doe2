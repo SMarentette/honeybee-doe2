{
 "cells": [
  {
   "cell_type": "code",
   "execution_count": 1,
   "metadata": {},
   "outputs": [],
   "source": [
    "import json\n",
    "import honeybee.dictutil as hb_dict_util\n",
    "import honeybee_energy.dictutil as energy_dict_util\n",
    "import honeybee_radiance.dictutil as radiance_dict_util\n",
    "from honeybee.face import Face\n",
    "from honeybee.room import Room\n",
    "from honeybee.aperture import Aperture\n",
    "from honeybee_energy.material.opaque import EnergyMaterial, EnergyMaterialNoMass\n",
    "from honeybee_energy.hvac import *\n",
    "\n",
    "\n",
    "\n",
    "\n",
    "def build_hb_objs(_path):\n",
    "    \"\"\" A function stolen from EM to take in a hbjson and rebuild hb_objs\n",
    "        into 'py hb_objs'.\n",
    "    ----------------------------------------------------------\n",
    "    Args:\n",
    "        * _path: path to hbjson\n",
    "    Returns:\n",
    "        * hb_objs\n",
    "    \"\"\"\n",
    "    with open(_path) as json_file:\n",
    "        data = json.load(json_file)\n",
    "\n",
    "    try:\n",
    "        hb_objs = hb_dict_util.dict_to_object(\n",
    "            data, False)  # re-serialize as a core object\n",
    "        if hb_objs is None:\n",
    "            # try to re-serialize it as an energy object\n",
    "            hb_objs = energy_dict_util.dict_to_object(data, False)\n",
    "            if hb_objs is None:\n",
    "                # try to re-serialize it as a radiance object\n",
    "                hb_objs = radiance_dict_util.dict_to_object(data, False)\n",
    "    except ValueError:\n",
    "        # no 'type' key; assume that its a group of objects\n",
    "        hb_objs = []\n",
    "        for hb_dict in data.values():\n",
    "            hb_obj = hb_dict_util.dict_to_object(\n",
    "                hb_dict, False)    # re-serialize as a core object\n",
    "            if hb_obj is None:\n",
    "                # try to re-serialize it as an energy object\n",
    "                hb_obj = energy_dict_util.dict_to_object(hb_dict, False)\n",
    "                if hb_obj is None:\n",
    "                    # try to re-serialize it as a radiance object\n",
    "                    hb_obj = radiance_dict_util.dict_to_object(hb_dict, False)\n",
    "            hb_objs.append(hb_obj)\n",
    "    return hb_objs"
   ]
  },
  {
   "cell_type": "code",
   "execution_count": 2,
   "metadata": {},
   "outputs": [],
   "source": [
    "test_model = build_hb_objs('samples\\hb_jsons\\simplebldgs.hbjson')"
   ]
  },
  {
   "cell_type": "code",
   "execution_count": null,
   "metadata": {},
   "outputs": [],
   "source": []
  }
 ],
 "metadata": {
  "kernelspec": {
   "display_name": "Python 3.9.5 ('.env': venv)",
   "language": "python",
   "name": "python3"
  },
  "language_info": {
   "codemirror_mode": {
    "name": "ipython",
    "version": 3
   },
   "file_extension": ".py",
   "mimetype": "text/x-python",
   "name": "python",
   "nbconvert_exporter": "python",
   "pygments_lexer": "ipython3",
   "version": "3.9.5"
  },
  "orig_nbformat": 4,
  "vscode": {
   "interpreter": {
    "hash": "f576465c0bc23e60f9adbda605c57e4ffa2e9d247e18f22fbcc9a9c90d757712"
   }
  }
 },
 "nbformat": 4,
 "nbformat_minor": 2
}
