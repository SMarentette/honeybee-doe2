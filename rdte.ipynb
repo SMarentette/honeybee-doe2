{
 "cells": [
  {
   "cell_type": "code",
   "execution_count": 1,
   "metadata": {},
   "outputs": [
    {
     "name": "stdout",
     "output_type": "stream",
     "text": [
      "['Face 1', 'Face 2', 'Face 3', 'facetouch2', 'Face 5', 'Face 6']\n",
      "['Face 1', 'facetouch1', 'Face 3', 'Face 4', 'Face 5', 'Face 6']\n"
     ]
    }
   ],
   "source": [
    "from honeybee.model import Model\n",
    "from honeybee.room import Room\n",
    "from honeybee.face import Face\n",
    "from honeybee.shade import Shade\n",
    "from honeybee.aperture import Aperture\n",
    "from honeybee.door import Door\n",
    "from honeybee.boundarycondition import Surface\n",
    "from honeybee.facetype import face_types\n",
    "from honeybee.units import conversion_factor_to_meters\n",
    "\n",
    "from ladybug_geometry.geometry3d.pointvector import Point3D, Vector3D\n",
    "from ladybug_geometry.geometry3d.plane import Plane\n",
    "from ladybug_geometry.geometry3d.face import Face3D\n",
    "\n",
    "from honeybee_doe2.writer import model_to_inp #prolly need to add this as a model function... \n",
    "from pprint import pprint\n",
    "\n",
    "\n",
    "tmodel = Model.from_hbjson('samples\\\\hb_jsons\\\\2_zone_adjacency_finding.hbjson')\n",
    "inp_model = model_to_inp(tmodel)\n",
    "\n",
    "\n",
    "with open('tests\\\\equest_inputs\\\\2_zone_adj_finder4.inp', 'w') as f:\n",
    "    f.write(inp_model)\n",
    "    f.close"
   ]
  },
  {
   "cell_type": "code",
   "execution_count": null,
   "metadata": {},
   "outputs": [],
   "source": []
  },
  {
   "cell_type": "code",
   "execution_count": null,
   "metadata": {},
   "outputs": [],
   "source": []
  },
  {
   "cell_type": "code",
   "execution_count": 3,
   "metadata": {},
   "outputs": [],
   "source": [
    "from honeybee.model import Model\n",
    "import json\n",
    "\n",
    "\n",
    "model = Model.from_file('samples\\\\hb_jsons\\\\revit_sample_model.hbjson')\n",
    "for i, room in enumerate(model.rooms):\n",
    "    \n",
    "    room_name = room.display_name\n",
    "    for face in room.faces:\n",
    "        try:\n",
    "            face_dir = face.horizontal_orientation()\n",
    "        except ZeroDivisionError:\n",
    "            thestr = f'{room_name}_{i}_{str(face.type)}'\n",
    "            thestr.replace(' ', '_')\n",
    "            thestr.replace('&', '')\n",
    "            face.display_name = thestr\n",
    "            \n",
    "        else:\n",
    "            if 0 <= face_dir < 45 or 270 + 45 <= face_dir:\n",
    "                face_dir = 'N'\n",
    "            elif 45 <= face_dir < 90 + 45:\n",
    "                face_dir = 'E'\n",
    "            elif 90 + 45 <= face_dir < 180 + 45:\n",
    "                face_dir = 'S'\n",
    "            else:\n",
    "                face_dir = 'W'\n",
    "            thestr = f'{room_name}_{i}_{str(face.type)}_{face_dir}'.replace(' ', '_')\n",
    "            thestr.replace('&', '')\n",
    "            face.display_name = thestr\n",
    "\n",
    "\n",
    "with open('samples\\\\hb_jsons\\\\revit_sample_CLEAN.hbjson', 'w') as f:\n",
    "    f.write(json.dumps(model.to_dict()))\n",
    "    f.close()\n",
    "    \n"
   ]
  },
  {
   "cell_type": "code",
   "execution_count": 4,
   "metadata": {},
   "outputs": [
    {
     "name": "stdout",
     "output_type": "stream",
     "text": [
      "DOE2 ground floor: Face 23\n"
     ]
    }
   ],
   "source": [
    "from honeybee.model import Model\n",
    "from honeybee.room import Room\n",
    "from honeybee.face import Face\n",
    "from honeybee.shade import Shade\n",
    "from honeybee.aperture import Aperture\n",
    "from honeybee.door import Door\n",
    "from honeybee.boundarycondition import Surface\n",
    "from honeybee.facetype import face_types\n",
    "from honeybee.units import conversion_factor_to_meters\n",
    "\n",
    "from ladybug_geometry.geometry3d.pointvector import Point3D, Vector3D\n",
    "from ladybug_geometry.geometry3d.plane import Plane\n",
    "from ladybug_geometry.geometry3d.face import Face3D\n",
    "\n",
    "from honeybee_doe2.writer import model_to_inp #prolly need to add this as a model function... \n",
    "from pprint import pprint\n",
    "\n",
    "\n",
    "from ladybug_geometry.geometry3d.pointvector import Vector3D\n",
    "\n",
    "tmodel = Model.from_hbjson('samples\\\\hb_jsons\\\\geometry_test.hbjson')\n",
    "\n",
    "            \n",
    "            \n",
    "\n",
    "\n",
    "\n",
    "print(tmodel.rooms[0].properties.doe2.ground_contact_surfaces[0])\n"
   ]
  },
  {
   "cell_type": "code",
   "execution_count": 5,
   "metadata": {},
   "outputs": [
    {
     "ename": "AssertionError",
     "evalue": "Failed to find samples\\cubetower.hbjson",
     "output_type": "error",
     "traceback": [
      "\u001b[1;31m---------------------------------------------------------------------------\u001b[0m",
      "\u001b[1;31mAssertionError\u001b[0m                            Traceback (most recent call last)",
      "Cell \u001b[1;32mIn [5], line 21\u001b[0m\n\u001b[0;32m     16\u001b[0m \u001b[38;5;28;01mfrom\u001b[39;00m \u001b[38;5;21;01mpprint\u001b[39;00m \u001b[38;5;28;01mimport\u001b[39;00m pprint\n\u001b[0;32m     18\u001b[0m \u001b[38;5;28;01mfrom\u001b[39;00m \u001b[38;5;21;01mhoneybee_doe2\u001b[39;00m\u001b[38;5;21;01m.\u001b[39;00m\u001b[38;5;21;01mproperties\u001b[39;00m\u001b[38;5;21;01m.\u001b[39;00m\u001b[38;5;21;01mstory\u001b[39;00m \u001b[38;5;28;01mimport\u001b[39;00m Doe2Story\n\u001b[1;32m---> 21\u001b[0m tmodel \u001b[38;5;241m=\u001b[39m Model\u001b[38;5;241m.\u001b[39mfrom_hbjson(\u001b[38;5;124m'\u001b[39m\u001b[38;5;124msamples\u001b[39m\u001b[38;5;124m\\\u001b[39m\u001b[38;5;124mcubetower.hbjson\u001b[39m\u001b[38;5;124m'\u001b[39m)\n\u001b[0;32m     23\u001b[0m group_tupe \u001b[38;5;241m=\u001b[39m Room\u001b[38;5;241m.\u001b[39mgroup_by_floor_height(tmodel\u001b[38;5;241m.\u001b[39mrooms, \u001b[38;5;241m0.1\u001b[39m)\n\u001b[0;32m     25\u001b[0m stories \u001b[38;5;241m=\u001b[39m []\n",
      "File \u001b[1;32md:\\_BR+A\\_aBasecamp\\___bra_git_org\\honeybee-doe2\\.env\\lib\\site-packages\\honeybee\\model.py:244\u001b[0m, in \u001b[0;36mModel.from_hbjson\u001b[1;34m(cls, hbjson_file)\u001b[0m\n\u001b[0;32m    237\u001b[0m \u001b[39m@classmethod\u001b[39m\n\u001b[0;32m    238\u001b[0m \u001b[39mdef\u001b[39;00m \u001b[39mfrom_hbjson\u001b[39m(\u001b[39mcls\u001b[39m, hbjson_file):\n\u001b[0;32m    239\u001b[0m     \u001b[39m\"\"\"Initialize a Model from a HBJSON file.\u001b[39;00m\n\u001b[0;32m    240\u001b[0m \n\u001b[0;32m    241\u001b[0m \u001b[39m    Args:\u001b[39;00m\n\u001b[0;32m    242\u001b[0m \u001b[39m        hbjson_file: Path to HBJSON file.\u001b[39;00m\n\u001b[0;32m    243\u001b[0m \u001b[39m    \"\"\"\u001b[39;00m\n\u001b[1;32m--> 244\u001b[0m     \u001b[39massert\u001b[39;00m os\u001b[39m.\u001b[39mpath\u001b[39m.\u001b[39misfile(hbjson_file), \u001b[39m'\u001b[39m\u001b[39mFailed to find \u001b[39m\u001b[39m%s\u001b[39;00m\u001b[39m'\u001b[39m \u001b[39m%\u001b[39m hbjson_file\n\u001b[0;32m    245\u001b[0m     \u001b[39mif\u001b[39;00m sys\u001b[39m.\u001b[39mversion_info \u001b[39m<\u001b[39m (\u001b[39m3\u001b[39m, \u001b[39m0\u001b[39m):\n\u001b[0;32m    246\u001b[0m         \u001b[39mwith\u001b[39;00m \u001b[39mopen\u001b[39m(hbjson_file) \u001b[39mas\u001b[39;00m inf:\n",
      "\u001b[1;31mAssertionError\u001b[0m: Failed to find samples\\cubetower.hbjson"
     ]
    }
   ],
   "source": [
    "from honeybee.model import Model\n",
    "from honeybee.room import Room\n",
    "from honeybee.face import Face\n",
    "from honeybee.shade import Shade\n",
    "from honeybee.aperture import Aperture\n",
    "from honeybee.door import Door\n",
    "from honeybee.boundarycondition import Surface\n",
    "from honeybee.facetype import face_types\n",
    "from honeybee.units import conversion_factor_to_meters\n",
    "\n",
    "from ladybug_geometry.geometry3d.pointvector import Point3D, Vector3D\n",
    "from ladybug_geometry.geometry3d.plane import Plane\n",
    "from ladybug_geometry.geometry3d.face import Face3D\n",
    "\n",
    "from honeybee_doe2.writer import model_to_inp #prolly need to add this as a model function... \n",
    "from pprint import pprint\n",
    "\n",
    "from honeybee_doe2.properties.story import Doe2Story\n",
    "\n",
    "\n",
    "tmodel = Model.from_hbjson('samples\\cubetower.hbjson')\n",
    "\n",
    "group_tupe = Room.group_by_floor_height(tmodel.rooms, 0.1)\n",
    "\n",
    "stories = []\n",
    "\n",
    "for i, story in enumerate(group_tupe[0]):\n",
    "    stories.append(Doe2Story(story,i))\n",
    "\n",
    "   \n",
    "print(stories[0])\n",
    "\n"
   ]
  },
  {
   "cell_type": "code",
   "execution_count": null,
   "metadata": {},
   "outputs": [
    {
     "data": {
      "text/plain": [
       "[\"Face 51f25\" = EXTERIOR-WALL\n",
       "   POLYGON           = \"Face 51f25 Plg\"\n",
       "   CONSTRUCTION      = \"Generic Exterior Wall_c\"\n",
       "   TILT              =  90.0\n",
       "   AZIMUTH           =  180.0\n",
       "   X                 =  3.7493994566546446e-32\n",
       "   Y                 =  0.0\n",
       "   Z                 =  -6.123233995736766e-16\n",
       "   ..,\n",
       " \"Face 9764a\" = INTERIOR-WALL\n",
       "   POLYGON           = \"Face 9764a Plg\"\n",
       "   CONSTRUCTION      = \"Generic Interior Wall_c\"\n",
       "   TILT              =  90.0\n",
       "   AZIMUTH           =  90.0\n",
       "   X                 =  10.0\n",
       "   Y                 =  3.7493994566546446e-32\n",
       "   Z                 =  -6.123233995736766e-16\n",
       "   ..,\n",
       " \"Face 375f2\" = EXTERIOR-WALL\n",
       "   POLYGON           = \"Face 375f2 Plg\"\n",
       "   CONSTRUCTION      = \"Generic Exterior Wall_c\"\n",
       "   TILT              =  90.0\n",
       "   AZIMUTH           =  0.0\n",
       "   X                 =  10.0\n",
       "   Y                 =  10.0\n",
       "   Z                 =  -6.123233995736766e-16\n",
       "   ..,\n",
       " \"Face 4ee55\" = EXTERIOR-WALL\n",
       "   POLYGON           = \"Face 4ee55 Plg\"\n",
       "   CONSTRUCTION      = \"Generic Exterior Wall_c\"\n",
       "   TILT              =  90.0\n",
       "   AZIMUTH           =  270.0\n",
       "   X                 =  0.0\n",
       "   Y                 =  10.0\n",
       "   Z                 =  -6.123233995736766e-16\n",
       "   ..]"
      ]
     },
     "execution_count": 4,
     "metadata": {},
     "output_type": "execute_result"
    }
   ],
   "source": [
    "rm = tmodel.rooms[0]\n",
    "\n",
    "rm.properties.doe2.walls"
   ]
  },
  {
   "cell_type": "code",
   "execution_count": null,
   "metadata": {},
   "outputs": [
    {
     "data": {
      "text/plain": [
       "['1', '0', '3', '2', '13']"
      ]
     },
     "execution_count": 5,
     "metadata": {},
     "output_type": "execute_result"
    }
   ],
   "source": [
    "tmodel.stories"
   ]
  },
  {
   "cell_type": "code",
   "execution_count": null,
   "metadata": {},
   "outputs": [
    {
     "name": "stdout",
     "output_type": "stream",
     "text": [
      "\"Double Low-E Window\" = GLASS-TYPE\n",
      "   TYPE               = SHADING-COEF\n",
      "   SHADING-COEF       = 0.48810970326870606\n",
      "   GLASS-CONDUCT      = 0.299\n",
      "   ..\n",
      "\n"
     ]
    }
   ],
   "source": [
    "from honeybee_energy.material.glazing import EnergyWindowMaterialGlazing\n",
    "from honeybee_energy.material.gas import EnergyWindowMaterialGas\n",
    "from honeybee_energy.construction.window import WindowConstruction\n",
    "\n",
    "from honeybee_doe2.properties.inputils.glass_types import GlassType\n",
    "\n",
    "\n",
    "lowe_glass = EnergyWindowMaterialGlazing(\n",
    "        'Low-e Glass', 0.00318, 0.4517, 0.359, 0.714, 0.207,\n",
    "        0, 0.84, 0.046578, 1.0)\n",
    "clear_glass = EnergyWindowMaterialGlazing(\n",
    "        'Clear Glass', 0.005715, 0.770675, 0.07, 0.8836, 0.0804,\n",
    "        0, 0.84, 0.84, 1.0)\n",
    "gap = EnergyWindowMaterialGas('air gap', thickness=0.0127)\n",
    "double_low_e = WindowConstruction(\n",
    "        'Double Low-E Window', [lowe_glass, gap, clear_glass])\n",
    "\n",
    "test_type = GlassType.from_hb_window_constr(double_low_e)\n",
    "print(test_type.to_inp())"
   ]
  },
  {
   "cell_type": "code",
   "execution_count": null,
   "metadata": {},
   "outputs": [
    {
     "data": {
      "text/plain": [
       "\"Walltest Plg\" = POLYGON\n",
       "   V1        = ( 0.000000, 0.000000 )\n",
       "   V2        = ( 10.000000, 0.000000 )\n",
       "   V3        = ( 10.000000, 3.000000 )\n",
       "   V4        = ( 0.000000, 3.000000 )\n",
       "   .."
      ]
     },
     "execution_count": 7,
     "metadata": {},
     "output_type": "execute_result"
    }
   ],
   "source": [
    "from honeybee.face import Face\n",
    "from honeybee.facetype import face_types, Wall\n",
    "from ladybug_geometry.geometry3d.face import Face3D\n",
    "from ladybug_geometry.geometry3d.pointvector import Point3D, Vector3D\n",
    "from ladybug_geometry.geometry3d.plane import Plane\n",
    "import uuid as py_uuid\n",
    "from honeybee_doe2.geometry.polygon import DoePolygon as doepoly\n",
    "from pprint import pprint\n",
    "\n",
    "vertices = [Point3D(0, 0, 0), Point3D(0, 10, 0), Point3D(0, 10, 3), Point3D(0, 0, 3)]\n",
    "\n",
    "unique_id = str(py_uuid.uuid4())\n",
    "face = Face(unique_id, Face3D(vertices))\n",
    "face.display_name = 'Walltest'\n",
    "\n",
    "\n",
    "testpoly = doepoly.from_face(face)\n",
    "testpoly"
   ]
  },
  {
   "cell_type": "code",
   "execution_count": null,
   "metadata": {},
   "outputs": [
    {
     "name": "stdout",
     "output_type": "stream",
     "text": [
      "\"Walltest Plg\" = POLYGON\n",
      "   V1        = ( 0.000000, 0.000000 )\n",
      "   V2        = ( 10.000000, 0.000000 )\n",
      "   V3        = ( 10.000000, 3.000000 )\n",
      "   V4        = ( 0.000000, 3.000000 )\n",
      "   ..\n"
     ]
    }
   ],
   "source": [
    "print(face.properties.doe2.poly)"
   ]
  },
  {
   "cell_type": "code",
   "execution_count": null,
   "metadata": {},
   "outputs": [
    {
     "name": "stdout",
     "output_type": "stream",
     "text": [
      "TITLE\n",
      "    LINE-1           = *sdf*\n",
      "    ..\n"
     ]
    }
   ],
   "source": [
    "from honeybee_doe2.properties.inputils.title import Title\n",
    "\n",
    "test = Title(title='sdf')\n",
    "print(str(test.to_inp()))"
   ]
  },
  {
   "cell_type": "code",
   "execution_count": null,
   "metadata": {},
   "outputs": [
    {
     "name": "stdout",
     "output_type": "stream",
     "text": [
      "$---------------------------------------------------------\n",
      "$              Site and Building Data\n",
      "$---------------------------------------------------------\n",
      "\n",
      "\"Site Data\" = SITE-PARAMETERS\n",
      "  ALTITUDE          = 150\n",
      "  C-STATE           = 21\n",
      "  C-WEATHER-FILE    = *TMY2\\HARTFOCT.bin* \n",
      "  C-COUNTRY         = 1\n",
      "  C-901-LOCATION    = 1092\n",
      "  ..\n",
      "\"Building Data\" = BUILD-PARAMETERS\n",
      "  HOLIDAYS        = \"Standard US Holidays\"\n",
      "  ..\n",
      "\n",
      "\n",
      "PROJECT-DATA\n",
      "  ..\n",
      "\n",
      "\n"
     ]
    }
   ],
   "source": [
    "from honeybee_doe2.properties.inputils.sitebldg import SiteBldgData as sbd\n",
    "\n",
    "\n",
    "\n",
    "abc = sbd()\n",
    "\n",
    "print(abc.to_inp())"
   ]
  },
  {
   "cell_type": "code",
   "execution_count": null,
   "metadata": {},
   "outputs": [],
   "source": [
    "from honeybee.room import Room\n",
    "\n",
    "room = Room.from_box('mybox', 3,3,3)\n",
    "\n",
    "\n",
    "#print(room.properties.doe2.space)\n",
    "#print(room.properties.doe2.poly)\n"
   ]
  },
  {
   "cell_type": "code",
   "execution_count": null,
   "metadata": {},
   "outputs": [],
   "source": []
  },
  {
   "cell_type": "code",
   "execution_count": null,
   "metadata": {},
   "outputs": [
    {
     "data": {
      "text/plain": [
       "\"Walltest Plg\" = POLYGON\n",
       "   V1        = ( 0.000000, 0.000000 )\n",
       "   V2        = ( -10.000000, 0.000000 )\n",
       "   V3        = ( -10.000000, -3.000000 )\n",
       "   V4        = ( 0.000000, -3.000000 )\n",
       "   .."
      ]
     },
     "execution_count": 12,
     "metadata": {},
     "output_type": "execute_result"
    }
   ],
   "source": [
    "from honeybee.face import Face\n",
    "from honeybee.facetype import face_types, Wall\n",
    "from ladybug_geometry.geometry3d.face import Face3D\n",
    "from ladybug_geometry.geometry3d.pointvector import Point3D, Vector3D\n",
    "from ladybug_geometry.geometry3d.plane import Plane\n",
    "import uuid as py_uuid\n",
    "from honeybee_doe2.geometry.polygon import DoePolygon as doepoly\n",
    "from pprint import pprint\n",
    "\n",
    "vertices = [Point3D(0, 0, 0), \n",
    "            Point3D(0, 10, 0), \n",
    "            Point3D(0, 10, 3), \n",
    "            Point3D(0, 0, 3)]\n",
    "\n",
    "unique_id = str(py_uuid.uuid4())\n",
    "test_face = Face(unique_id, Face3D(vertices))\n",
    "test_face.display_name = 'Walltest'\n",
    "\n",
    "class WallStuff:\n",
    "    def __init__(self, _face):\n",
    "        self.host = _face\n",
    "        \n",
    "    @property\n",
    "    def wall_poly(self):\n",
    "        return self._create_wall_poly(self.host)\n",
    "    \n",
    "    @staticmethod\n",
    "    def _create_wall_poly(obj):\n",
    "        return doepoly.from_vertices(name=obj.display_name, vertices=obj.geometry.polygon2d.vertices)\n",
    "        \n",
    "        \n",
    "mywall = WallStuff(test_face)\n",
    "\n",
    "mywall.wall_poly"
   ]
  },
  {
   "cell_type": "code",
   "execution_count": null,
   "metadata": {},
   "outputs": [
    {
     "data": {
      "text/plain": [
       "\"Walltest Plg\" = POLYGON\n",
       "   V1        = ( 0.000000, 0.000000 )\n",
       "   V2        = ( -10.000000, 0.000000 )\n",
       "   V3        = ( -10.000000, -3.000000 )\n",
       "   V4        = ( 0.000000, -3.000000 )\n",
       "   .."
      ]
     },
     "execution_count": 13,
     "metadata": {},
     "output_type": "execute_result"
    }
   ],
   "source": [
    "from honeybee_doe2.properties.wall import DoeWall\n",
    "\n",
    "new_wall = WallStuff(test_face)\n",
    "new_wall.wall_poly\n"
   ]
  },
  {
   "cell_type": "code",
   "execution_count": null,
   "metadata": {},
   "outputs": [
    {
     "data": {
      "text/plain": [
       "\"mybox_Front\" = EXTERIOR-WALL\n",
       "  POLYGON           = \"mybox_Front Plg\"\n",
       "  CONSTRUCTION      = \"Generic Exterior Wall_c\"\n",
       "  TILT              =  90.0\n",
       "  AZIMUTH           =  0.0\n",
       "  X                 =  3.0\n",
       "  Y                 =  3.0\n",
       "  Z                 =  -1.8369701987210297e-16\n",
       "  .."
      ]
     },
     "execution_count": 14,
     "metadata": {},
     "output_type": "execute_result"
    }
   ],
   "source": [
    "from honeybee.face import Face\n",
    "from honeybee.facetype import face_types, Wall\n",
    "from ladybug_geometry.geometry3d.face import Face3D\n",
    "from ladybug_geometry.geometry3d.pointvector import Point3D, Vector3D\n",
    "from ladybug_geometry.geometry3d.plane import Plane\n",
    "import uuid as py_uuid\n",
    "from honeybee_doe2.geometry.polygon import DoePolygon as doepoly\n",
    "from pprint import pprint\n",
    "from honeybee.room import Room\n",
    "\n",
    "vertices = [Point3D(0, 0, 0), Point3D(0, 10, 0), Point3D(0, 10, 3), Point3D(0, 0, 3)]\n",
    "\n",
    "unique_id = str(py_uuid.uuid4())\n",
    "test_face = Face(unique_id, Face3D(vertices))\n",
    "test_face.display_name = 'doetestwall'\n",
    "\n",
    "from honeybee_doe2.properties.wall import DoeWall\n",
    "\n",
    "mywall = DoeWall(_face=test_face)\n",
    "\n",
    "\n",
    "room = Room.from_box('mybox', 3,3,3)\n",
    "\n",
    "mywall = DoeWall(_face=room.faces[1])\n",
    "\n",
    "mywall.wall_obj"
   ]
  },
  {
   "cell_type": "code",
   "execution_count": null,
   "metadata": {},
   "outputs": [],
   "source": []
  }
 ],
 "metadata": {
  "kernelspec": {
   "display_name": "Python 3.9.5 ('.env': venv)",
   "language": "python",
   "name": "python3"
  },
  "language_info": {
   "codemirror_mode": {
    "name": "ipython",
    "version": 3
   },
   "file_extension": ".py",
   "mimetype": "text/x-python",
   "name": "python",
   "nbconvert_exporter": "python",
   "pygments_lexer": "ipython3",
   "version": "3.9.5"
  },
  "orig_nbformat": 4,
  "vscode": {
   "interpreter": {
    "hash": "f576465c0bc23e60f9adbda605c57e4ffa2e9d247e18f22fbcc9a9c90d757712"
   }
  }
 },
 "nbformat": 4,
 "nbformat_minor": 2
}
