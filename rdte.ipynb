{
 "cells": [
  {
   "cell_type": "code",
   "execution_count": 1,
   "metadata": {},
   "outputs": [
    {
     "name": "stdout",
     "output_type": "stream",
     "text": [
      "\"Walltest Plg\" = POLYGON\n",
      "   V1        = ( 0.000000, 0.000000 )\n",
      "   V2        = ( 0.000000, 10.000000 )\n",
      "   V3        = ( 0.000000, 10.000000 )\n",
      "   V4        = ( 0.000000, 0.000000 )\n",
      "   ..\n"
     ]
    }
   ],
   "source": [
    "from honeybee.face import Face\n",
    "from honeybee.facetype import face_types, Wall\n",
    "from ladybug_geometry.geometry3d.face import Face3D\n",
    "from ladybug_geometry.geometry3d.pointvector import Point3D, Vector3D\n",
    "from ladybug_geometry.geometry3d.plane import Plane\n",
    "import uuid as py_uuid\n",
    "from honeybee_doe2.geometry.polygon import DoePolygon as doepoly\n",
    "from pprint import pprint\n",
    "\n",
    "vertices = [Point3D(0, 0, 0), Point3D(0, 10, 0), Point3D(0, 10, 3), Point3D(0, 0, 3)]\n",
    "\n",
    "unique_id = str(py_uuid.uuid4())\n",
    "face = Face(unique_id, Face3D(vertices))\n",
    "face.display_name = 'Walltest'\n",
    "\n",
    "\n",
    "testpoly = doepoly.from_face(face)\n",
    "pprint(testpoly)"
   ]
  },
  {
   "cell_type": "code",
   "execution_count": 2,
   "metadata": {},
   "outputs": [
    {
     "name": "stdout",
     "output_type": "stream",
     "text": [
      "\"Walltest Plg\" = POLYGON\n",
      "   V1        = ( 0.000000, 0.000000 )\n",
      "   V2        = ( 0.000000, 10.000000 )\n",
      "   V3        = ( 0.000000, 10.000000 )\n",
      "   V4        = ( 0.000000, 0.000000 )\n",
      "   ..\n"
     ]
    }
   ],
   "source": [
    "print(face.properties.doe2.poly)"
   ]
  },
  {
   "cell_type": "code",
   "execution_count": 3,
   "metadata": {},
   "outputs": [
    {
     "name": "stdout",
     "output_type": "stream",
     "text": [
      "TITLE\n",
      "    LINE-1           = *sdf*\n",
      "    ..\n"
     ]
    }
   ],
   "source": [
    "from honeybee_doe2.properties.inputils.title import Title\n",
    "\n",
    "test = Title(title='sdf')\n",
    "print(str(test.to_inp()))"
   ]
  },
  {
   "cell_type": "code",
   "execution_count": 4,
   "metadata": {},
   "outputs": [
    {
     "name": "stdout",
     "output_type": "stream",
     "text": [
      "$---------------------------------------------------------\n",
      "$              Site and Building Data\n",
      "$---------------------------------------------------------\n",
      "\n",
      "\"Site Data\" = SITE-PARAMETERS\n",
      "  ALTITUDE          = 150\n",
      "  C-STATE           = 21\n",
      "  C-WEATHER-FILE    = *TMY2\\HARTFOCT.bin* \n",
      "  C-COUNTRY         = 1\n",
      "  C-901-LOCATION    = 1092\n",
      "  ..\n",
      "\"Building Data\" = BUILD-PARAMETERS\n",
      "  HOLIDAYS        = \"Standard US Holidays\"\n",
      "  ..\n",
      "\n",
      "\n",
      "PROJECT-DATA\n",
      "  ..\n",
      "\n",
      "\n"
     ]
    }
   ],
   "source": [
    "from honeybee_doe2.properties.inputils.sitebldg import SiteBldgData as sbd\n",
    "\n",
    "\n",
    "\n",
    "abc = sbd()\n",
    "\n",
    "print(abc.to_inp())"
   ]
  },
  {
   "cell_type": "code",
   "execution_count": 5,
   "metadata": {},
   "outputs": [
    {
     "name": "stdout",
     "output_type": "stream",
     "text": [
      "\"Double Low-E Window\" = GLASS-TYPE\n",
      "   TYPE               = SHADING-COEF\n",
      "   SHADING-COEF       = 0.48810970326870606\n",
      "   GLASS-CONDUCT      = 0.299\n",
      "   ..\n",
      "\n"
     ]
    }
   ],
   "source": [
    "from honeybee_energy.material.glazing import EnergyWindowMaterialGlazing\n",
    "from honeybee_energy.material.gas import EnergyWindowMaterialGas\n",
    "from honeybee_energy.construction.window import WindowConstruction\n",
    "\n",
    "from honeybee_doe2.properties.inputils.glass_types import GlassType\n",
    "\n",
    "\n",
    "lowe_glass = EnergyWindowMaterialGlazing(\n",
    "        'Low-e Glass', 0.00318, 0.4517, 0.359, 0.714, 0.207,\n",
    "        0, 0.84, 0.046578, 1.0)\n",
    "clear_glass = EnergyWindowMaterialGlazing(\n",
    "        'Clear Glass', 0.005715, 0.770675, 0.07, 0.8836, 0.0804,\n",
    "        0, 0.84, 0.84, 1.0)\n",
    "gap = EnergyWindowMaterialGas('air gap', thickness=0.0127)\n",
    "double_low_e = WindowConstruction(\n",
    "        'Double Low-E Window', [lowe_glass, gap, clear_glass])\n",
    "\n",
    "test_type = GlassType.from_hb_window_constr(double_low_e)\n",
    "print(test_type.to_inp())"
   ]
  },
  {
   "cell_type": "code",
   "execution_count": 1,
   "metadata": {},
   "outputs": [
    {
     "name": "stdout",
     "output_type": "stream",
     "text": [
      "[[[Face: Face 51f25,\n",
      "   Face: Face 9764a,\n",
      "   Face: Face 375f2,\n",
      "   Face: Face 4ee55,\n",
      "   Face: Face 6fbac,\n",
      "   Face: Face 7c8ec],\n",
      "  [Face: Face 4724b,\n",
      "   Face: Face c7096,\n",
      "   Face: Face 6ab51,\n",
      "   Face: Face af261,\n",
      "   Face: Face 8f26e,\n",
      "   Face: Face bfbf6]],\n",
      " [[Face: Face 94efb,\n",
      "   Face: Face 5a71d,\n",
      "   Face: Face 8afa0,\n",
      "   Face: Face 9f77d,\n",
      "   Face: Face 1f454,\n",
      "   Face: Face a2f6c],\n",
      "  [Face: Face 46914,\n",
      "   Face: Face cd7db,\n",
      "   Face: Face f0ecd,\n",
      "   Face: Face 223ce,\n",
      "   Face: Face 9e7d3,\n",
      "   Face: Face e3e14]],\n",
      " [[Face: Face 86932,\n",
      "   Face: Face e577c,\n",
      "   Face: Face 77df3,\n",
      "   Face: Face cf5b3,\n",
      "   Face: Face fb9d4,\n",
      "   Face: Face a2084],\n",
      "  [Face: Face 2c00e,\n",
      "   Face: Face 5fb85,\n",
      "   Face: Face 8cc10,\n",
      "   Face: Face 16ae2,\n",
      "   Face: Face ca764,\n",
      "   Face: Face 44489]],\n",
      " [[Face: Face 70a90,\n",
      "   Face: Face c0731,\n",
      "   Face: Face db9ef,\n",
      "   Face: Face 5ed31,\n",
      "   Face: Face 1ee43,\n",
      "   Face: Face f7cd6],\n",
      "  [Face: Face 69439,\n",
      "   Face: Face 23b96,\n",
      "   Face: Face 37443,\n",
      "   Face: Face a57ac,\n",
      "   Face: Face 5478d,\n",
      "   Face: Face af1aa]],\n",
      " [[Face: Face 991b8,\n",
      "   Face: Face 2c0c2,\n",
      "   Face: Face c8647,\n",
      "   Face: Face 179a5,\n",
      "   Face: Face eecbe,\n",
      "   Face: Face e4291],\n",
      "  [Face: Face e10cf,\n",
      "   Face: Face f29b0,\n",
      "   Face: Face 0e29a,\n",
      "   Face: Face 66110,\n",
      "   Face: Face 2403e,\n",
      "   Face: Face 376c7]]]\n"
     ]
    }
   ],
   "source": [
    "from honeybee.model import Model\n",
    "from honeybee.room import Room\n",
    "from honeybee.face import Face\n",
    "from honeybee.shade import Shade\n",
    "from honeybee.aperture import Aperture\n",
    "from honeybee.door import Door\n",
    "from honeybee.boundarycondition import Surface\n",
    "from honeybee.facetype import face_types\n",
    "from honeybee.units import conversion_factor_to_meters\n",
    "\n",
    "from ladybug_geometry.geometry3d.pointvector import Point3D, Vector3D\n",
    "from ladybug_geometry.geometry3d.plane import Plane\n",
    "from ladybug_geometry.geometry3d.face import Face3D\n",
    "\n",
    "from honeybee_doe2.writer import model_to_inp #prolly need to add this as a model function... \n",
    "from pprint import pprint\n",
    "\n",
    "\n",
    "tmodel = Model.from_hbjson('samples\\cubetower.hbjson')\n",
    "\n",
    "#print(model_to_inp(tmodel))\n",
    "\n",
    "tmodel.properties.doe2.stories\n"
   ]
  },
  {
   "cell_type": "code",
   "execution_count": 14,
   "metadata": {},
   "outputs": [
    {
     "name": "stdout",
     "output_type": "stream",
     "text": [
      "0 [Polyface3D (6 faces) (8 vertices), Polyface3D (6 faces) (8 vertices)]\n",
      "1 [Polyface3D (6 faces) (8 vertices), Polyface3D (6 faces) (8 vertices)]\n",
      "2 [Polyface3D (6 faces) (8 vertices), Polyface3D (6 faces) (8 vertices)]\n",
      "3 [Polyface3D (6 faces) (8 vertices), Polyface3D (6 faces) (8 vertices)]\n",
      "4 [Polyface3D (6 faces) (8 vertices), Polyface3D (6 faces) (8 vertices)]\n"
     ]
    }
   ],
   "source": [
    "for storynumber, story in enumerate(tmodel.properties.doe2.stories):\n",
    "    print(storynumber, [room.geometry for room in story])\n",
    "    \n",
    "# idk why I'm geekin on this lol"
   ]
  },
  {
   "cell_type": "code",
   "execution_count": 4,
   "metadata": {},
   "outputs": [],
   "source": []
  },
  {
   "cell_type": "markdown",
   "metadata": {},
   "source": []
  }
 ],
 "metadata": {
  "kernelspec": {
   "display_name": "Python 3.9.5 ('.env': venv)",
   "language": "python",
   "name": "python3"
  },
  "language_info": {
   "codemirror_mode": {
    "name": "ipython",
    "version": 3
   },
   "file_extension": ".py",
   "mimetype": "text/x-python",
   "name": "python",
   "nbconvert_exporter": "python",
   "pygments_lexer": "ipython3",
   "version": "3.9.5"
  },
  "orig_nbformat": 4,
  "vscode": {
   "interpreter": {
    "hash": "f576465c0bc23e60f9adbda605c57e4ffa2e9d247e18f22fbcc9a9c90d757712"
   }
  }
 },
 "nbformat": 4,
 "nbformat_minor": 2
}
