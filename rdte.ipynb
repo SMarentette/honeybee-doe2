{
 "cells": [
  {
   "cell_type": "code",
   "execution_count": 4,
   "metadata": {},
   "outputs": [],
   "source": [
    "from honeybee.model import Model\n",
    "from honeybee.room import Room\n",
    "from honeybee.face import Face\n",
    "from honeybee.shade import Shade\n",
    "from honeybee.aperture import Aperture\n",
    "from honeybee.door import Door\n",
    "from honeybee.boundarycondition import Surface\n",
    "from honeybee.facetype import face_types\n",
    "from honeybee.units import conversion_factor_to_meters\n",
    "\n",
    "from ladybug_geometry.geometry3d.pointvector import Point3D, Vector3D\n",
    "from ladybug_geometry.geometry3d.plane import Plane\n",
    "from ladybug_geometry.geometry3d.face import Face3D\n",
    "\n",
    "from honeybee_doe2.writer import model_to_inp #prolly need to add this as a model function... \n",
    "from pprint import pprint\n",
    "\n",
    "\n",
    "tmodel = Model.from_hbjson('samples\\\\hb_jsons\\\\square_simple.hbjson')\n",
    "inp_model = model_to_inp(tmodel)\n",
    "\n",
    "\n",
    "with open('tests\\\\equest_inputs\\\\ground_testing_basic.inp', 'w') as f:\n",
    "    f.write(inp_model)\n",
    "    f.close\n",
    "\n",
    "\n",
    "    "
   ]
  },
  {
   "cell_type": "code",
   "execution_count": 2,
   "metadata": {},
   "outputs": [
    {
     "ename": "AssertionError",
     "evalue": "Illegal character \" \" found in honeybee object identifier",
     "output_type": "error",
     "traceback": [
      "\u001b[1;31m---------------------------------------------------------------------------\u001b[0m",
      "\u001b[1;31mZeroDivisionError\u001b[0m                         Traceback (most recent call last)",
      "Cell \u001b[1;32mIn [2], line 11\u001b[0m\n\u001b[0;32m     10\u001b[0m \u001b[38;5;28;01mtry\u001b[39;00m:\n\u001b[1;32m---> 11\u001b[0m     face_dir \u001b[38;5;241m=\u001b[39m face\u001b[38;5;241m.\u001b[39mhorizontal_orientation()\n\u001b[0;32m     12\u001b[0m \u001b[38;5;28;01mexcept\u001b[39;00m \u001b[38;5;167;01mZeroDivisionError\u001b[39;00m:\n",
      "File \u001b[1;32md:\\_BR+A\\_aBasecamp\\___bra_git_org\\honeybee-doe2\\.env\\lib\\site-packages\\honeybee\\face.py:374\u001b[0m, in \u001b[0;36mFace.horizontal_orientation\u001b[1;34m(self, north_vector)\u001b[0m\n\u001b[0;32m    365\u001b[0m \u001b[39m\"\"\"Get a number between 0 and 360 for the orientation of the face in degrees.\u001b[39;00m\n\u001b[0;32m    366\u001b[0m \n\u001b[0;32m    367\u001b[0m \u001b[39m0 = North, 90 = East, 180 = South, 270 = West\u001b[39;00m\n\u001b[1;32m   (...)\u001b[0m\n\u001b[0;32m    371\u001b[0m \u001b[39m        Default is the Y-axis (0, 1).\u001b[39;00m\n\u001b[0;32m    372\u001b[0m \u001b[39m\"\"\"\u001b[39;00m\n\u001b[0;32m    373\u001b[0m \u001b[39mreturn\u001b[39;00m math\u001b[39m.\u001b[39mdegrees(\n\u001b[1;32m--> 374\u001b[0m     north_vector\u001b[39m.\u001b[39;49mangle_clockwise(Vector2D(\u001b[39mself\u001b[39;49m\u001b[39m.\u001b[39;49mnormal\u001b[39m.\u001b[39;49mx, \u001b[39mself\u001b[39;49m\u001b[39m.\u001b[39;49mnormal\u001b[39m.\u001b[39;49my)))\n",
      "File \u001b[1;32md:\\_BR+A\\_aBasecamp\\___bra_git_org\\honeybee-doe2\\.env\\lib\\site-packages\\ladybug_geometry\\geometry2d\\pointvector.py:165\u001b[0m, in \u001b[0;36mVector2D.angle_clockwise\u001b[1;34m(self, other)\u001b[0m\n\u001b[0;32m    164\u001b[0m \u001b[39m\"\"\"Get the clockwise angle between this vector and another.\"\"\"\u001b[39;00m\n\u001b[1;32m--> 165\u001b[0m inner \u001b[39m=\u001b[39m \u001b[39mself\u001b[39;49m\u001b[39m.\u001b[39;49mangle(other)\n\u001b[0;32m    166\u001b[0m det \u001b[39m=\u001b[39m \u001b[39mself\u001b[39m\u001b[39m.\u001b[39mdeterminant(other)\n",
      "File \u001b[1;32md:\\_BR+A\\_aBasecamp\\___bra_git_org\\honeybee-doe2\\.env\\lib\\site-packages\\ladybug_geometry\\geometry2d\\pointvector.py:148\u001b[0m, in \u001b[0;36mVector2D.angle\u001b[1;34m(self, other)\u001b[0m\n\u001b[0;32m    147\u001b[0m \u001b[39mtry\u001b[39;00m:\n\u001b[1;32m--> 148\u001b[0m     \u001b[39mreturn\u001b[39;00m math\u001b[39m.\u001b[39macos(\u001b[39mself\u001b[39;49m\u001b[39m.\u001b[39;49mdot(other) \u001b[39m/\u001b[39;49m (\u001b[39mself\u001b[39;49m\u001b[39m.\u001b[39;49mmagnitude \u001b[39m*\u001b[39;49m other\u001b[39m.\u001b[39;49mmagnitude))\n\u001b[0;32m    149\u001b[0m \u001b[39mexcept\u001b[39;00m \u001b[39mValueError\u001b[39;00m:  \u001b[39m# python floating tolerance can cause math domain error\u001b[39;00m\n",
      "\u001b[1;31mZeroDivisionError\u001b[0m: float division by zero",
      "\nDuring handling of the above exception, another exception occurred:\n",
      "\u001b[1;31mAssertionError\u001b[0m                            Traceback (most recent call last)",
      "Cell \u001b[1;32mIn [2], line 16\u001b[0m\n\u001b[0;32m     14\u001b[0m     thestr\u001b[38;5;241m.\u001b[39mreplace(\u001b[38;5;124m'\u001b[39m\u001b[38;5;124m \u001b[39m\u001b[38;5;124m'\u001b[39m, \u001b[38;5;124m'\u001b[39m\u001b[38;5;124m_\u001b[39m\u001b[38;5;124m'\u001b[39m)\n\u001b[0;32m     15\u001b[0m     thestr\u001b[38;5;241m.\u001b[39mreplace(\u001b[38;5;124m'\u001b[39m\u001b[38;5;124m&\u001b[39m\u001b[38;5;124m'\u001b[39m, \u001b[38;5;124m'\u001b[39m\u001b[38;5;124m'\u001b[39m)\n\u001b[1;32m---> 16\u001b[0m     face\u001b[38;5;241m.\u001b[39midentifier \u001b[38;5;241m=\u001b[39m thestr\n\u001b[0;32m     18\u001b[0m \u001b[38;5;28;01melse\u001b[39;00m:\n\u001b[0;32m     19\u001b[0m     \u001b[38;5;28;01mif\u001b[39;00m \u001b[38;5;241m0\u001b[39m \u001b[38;5;241m<\u001b[39m\u001b[38;5;241m=\u001b[39m face_dir \u001b[38;5;241m<\u001b[39m \u001b[38;5;241m45\u001b[39m \u001b[38;5;129;01mor\u001b[39;00m \u001b[38;5;241m270\u001b[39m \u001b[38;5;241m+\u001b[39m \u001b[38;5;241m45\u001b[39m \u001b[38;5;241m<\u001b[39m\u001b[38;5;241m=\u001b[39m face_dir:\n",
      "File \u001b[1;32md:\\_BR+A\\_aBasecamp\\___bra_git_org\\honeybee-doe2\\.env\\lib\\site-packages\\honeybee\\_base.py:42\u001b[0m, in \u001b[0;36m_Base.identifier\u001b[1;34m(self, value)\u001b[0m\n\u001b[0;32m     40\u001b[0m \u001b[39m@identifier\u001b[39m\u001b[39m.\u001b[39msetter\n\u001b[0;32m     41\u001b[0m \u001b[39mdef\u001b[39;00m \u001b[39midentifier\u001b[39m(\u001b[39mself\u001b[39m, value):\n\u001b[1;32m---> 42\u001b[0m     \u001b[39mself\u001b[39m\u001b[39m.\u001b[39m_identifier \u001b[39m=\u001b[39m valid_string(value, \u001b[39m'\u001b[39;49m\u001b[39mhoneybee object identifier\u001b[39;49m\u001b[39m'\u001b[39;49m)\n",
      "File \u001b[1;32md:\\_BR+A\\_aBasecamp\\___bra_git_org\\honeybee-doe2\\.env\\lib\\site-packages\\honeybee\\typing.py:26\u001b[0m, in \u001b[0;36mvalid_string\u001b[1;34m(value, input_name)\u001b[0m\n\u001b[0;32m     23\u001b[0m \u001b[39mexcept\u001b[39;00m \u001b[39mTypeError\u001b[39;00m:\n\u001b[0;32m     24\u001b[0m     \u001b[39mraise\u001b[39;00m \u001b[39mTypeError\u001b[39;00m(\u001b[39m'\u001b[39m\u001b[39mInput \u001b[39m\u001b[39m{}\u001b[39;00m\u001b[39m must be a text string. Got \u001b[39m\u001b[39m{}\u001b[39;00m\u001b[39m: \u001b[39m\u001b[39m{}\u001b[39;00m\u001b[39m.\u001b[39m\u001b[39m'\u001b[39m\u001b[39m.\u001b[39mformat(\n\u001b[0;32m     25\u001b[0m         input_name, \u001b[39mtype\u001b[39m(value), value))\n\u001b[1;32m---> 26\u001b[0m \u001b[39massert\u001b[39;00m illegal_match \u001b[39mis\u001b[39;00m \u001b[39mNone\u001b[39;00m, \u001b[39m'\u001b[39m\u001b[39mIllegal character \u001b[39m\u001b[39m\"\u001b[39m\u001b[39m{}\u001b[39;00m\u001b[39m\"\u001b[39m\u001b[39m found in \u001b[39m\u001b[39m{}\u001b[39;00m\u001b[39m'\u001b[39m\u001b[39m.\u001b[39mformat(\n\u001b[0;32m     27\u001b[0m     illegal_match\u001b[39m.\u001b[39mgroup(\u001b[39m0\u001b[39m), input_name)\n\u001b[0;32m     28\u001b[0m \u001b[39massert\u001b[39;00m \u001b[39mlen\u001b[39m(value) \u001b[39m>\u001b[39m \u001b[39m0\u001b[39m, \u001b[39m'\u001b[39m\u001b[39mInput \u001b[39m\u001b[39m{}\u001b[39;00m\u001b[39m \u001b[39m\u001b[39m\"\u001b[39m\u001b[39m{}\u001b[39;00m\u001b[39m\"\u001b[39m\u001b[39m contains no characters.\u001b[39m\u001b[39m'\u001b[39m\u001b[39m.\u001b[39mformat(\n\u001b[0;32m     29\u001b[0m     input_name, value)\n\u001b[0;32m     30\u001b[0m \u001b[39massert\u001b[39;00m \u001b[39mlen\u001b[39m(value) \u001b[39m<\u001b[39m\u001b[39m=\u001b[39m \u001b[39m100\u001b[39m, \u001b[39m'\u001b[39m\u001b[39mInput \u001b[39m\u001b[39m{}\u001b[39;00m\u001b[39m \u001b[39m\u001b[39m\"\u001b[39m\u001b[39m{}\u001b[39;00m\u001b[39m\"\u001b[39m\u001b[39m must be less than 100 characters.\u001b[39m\u001b[39m'\u001b[39m\u001b[39m.\u001b[39mformat(\n\u001b[0;32m     31\u001b[0m     input_name, value)\n",
      "\u001b[1;31mAssertionError\u001b[0m: Illegal character \" \" found in honeybee object identifier"
     ]
    }
   ],
   "source": [
    "from honeybee.model import Model\n",
    "import json\n",
    "\n",
    "\n",
    "model = Model.from_file('samples\\\\hb_jsons\\\\revit_sample_model_renamed.hbjson')\n",
    "for room in model.rooms:\n",
    "    \n",
    "    room_name = room.display_name\n",
    "    for face in room.faces:\n",
    "        try:\n",
    "            face_dir = face.horizontal_orientation()\n",
    "        except ZeroDivisionError:\n",
    "            thestr = f'{room_name}_{str(face.type)}'\n",
    "            thestr.replace(' ', '_')\n",
    "            thestr.replace('&', '')\n",
    "            face.identifier = thestr\n",
    "            \n",
    "        else:\n",
    "            if 0 <= face_dir < 45 or 270 + 45 <= face_dir:\n",
    "                face_dir = 'N'\n",
    "            elif 45 <= face_dir < 90 + 45:\n",
    "                face_dir = 'E'\n",
    "            elif 90 + 45 <= face_dir < 180 + 45:\n",
    "                face_dir = 'S'\n",
    "            else:\n",
    "                face_dir = 'W'\n",
    "            thestr = f'{room_name}_{str(face.type)}_{face_dir}'.replace(' ', '_')\n",
    "            thestr.replace('&', '')\n",
    "            face.identifier = thestr\n",
    "\n",
    "\n",
    "with open('samples\\\\hb_jsons\\\\revit_sample_CLEAN.hbjson', 'w') as f:\n",
    "    f.write(json.dumps(model.to_dict()))\n",
    "    f.close()\n",
    "    \n"
   ]
  },
  {
   "cell_type": "code",
   "execution_count": 6,
   "metadata": {},
   "outputs": [
    {
     "name": "stdout",
     "output_type": "stream",
     "text": [
      "\"Room_df657f7b..Face_17eb4746\" = UNDERGROUND-WALL\n",
      "\n",
      "  CONSTRUCTION = \"Tpcl Insltd Crptd 8n Slb Flr\"\n",
      "  LOCATION     = BOTTOM\n",
      "  ..\n"
     ]
    }
   ],
   "source": [
    "from honeybee.model import Model\n",
    "from honeybee.room import Room\n",
    "from honeybee.face import Face\n",
    "from honeybee.shade import Shade\n",
    "from honeybee.aperture import Aperture\n",
    "from honeybee.door import Door\n",
    "from honeybee.boundarycondition import Surface\n",
    "from honeybee.facetype import face_types\n",
    "from honeybee.units import conversion_factor_to_meters\n",
    "\n",
    "from ladybug_geometry.geometry3d.pointvector import Point3D, Vector3D\n",
    "from ladybug_geometry.geometry3d.plane import Plane\n",
    "from ladybug_geometry.geometry3d.face import Face3D\n",
    "\n",
    "from honeybee_doe2.writer import model_to_inp #prolly need to add this as a model function... \n",
    "from pprint import pprint\n",
    "\n",
    "\n",
    "from ladybug_geometry.geometry3d.pointvector import Vector3D\n",
    "\n",
    "tmodel = Model.from_hbjson('samples\\\\hb_jsons\\\\geometry_test.hbjson')\n",
    "\n",
    "            \n",
    "            \n",
    "\n",
    "\n",
    "\n",
    "print(tmodel.rooms[0].properties.doe2.ground_contact_surfaces[0])\n"
   ]
  },
  {
   "cell_type": "code",
   "execution_count": 3,
   "metadata": {},
   "outputs": [
    {
     "name": "stdout",
     "output_type": "stream",
     "text": [
      "\n",
      "\"Level_0\"= FLOOR\n",
      "   SHAPE           = POLYGON\n",
      "   POLYGON         = \"Level_0 Plg\"\n",
      "   SPACE-HEIGHT    = 0.0\n",
      "   FLOOR-HEIGHT    = 3.0\n",
      "   ..\n",
      "\n",
      "\"Room 43ee2\" = SPACE\n",
      "   SHAPE           = POLYGON\n",
      "   POLYGON         = \"Face 6fbac Plg\"\n",
      "  VOLUME           = 300.0\n",
      "  ..\n",
      "\n",
      "\"Face 51f25\" = EXTERIOR-WALL\n",
      "  POLYGON           = \"Face 51f25 Plg\"\n",
      "  CONSTRUCTION      = \"Generic Exterior Wall_c\"\n",
      "  TILT              =  90.0\n",
      "  AZIMUTH           =  180.0\n",
      "  X                 =  3.7493994566546446e-32\n",
      "  Y                 =  0.0\n",
      "  Z                 =  -6.123233995736766e-16\n",
      "  ..\n",
      "\n",
      "\n",
      "\"Face 9764a\" = INTERIOR-WALL\n",
      "  POLYGON           = \"Face 9764a Plg\"\n",
      "  CONSTRUCTION      = \"Generic Interior Wall_c\"\n",
      "  TILT              =  90.0\n",
      "  AZIMUTH           =  90.0\n",
      "  X                 =  10.0\n",
      "  Y                 =  3.7493994566546446e-32\n",
      "  Z                 =  -6.123233995736766e-16\n",
      "  ..\n",
      "\n",
      "\n",
      "\"Face 375f2\" = EXTERIOR-WALL\n",
      "  POLYGON           = \"Face 375f2 Plg\"\n",
      "  CONSTRUCTION      = \"Generic Exterior Wall_c\"\n",
      "  TILT              =  90.0\n",
      "  AZIMUTH           =  0.0\n",
      "  X                 =  10.0\n",
      "  Y                 =  10.0\n",
      "  Z                 =  -6.123233995736766e-16\n",
      "  ..\n",
      "\n",
      "\n",
      "\"Face 4ee55\" = EXTERIOR-WALL\n",
      "  POLYGON           = \"Face 4ee55 Plg\"\n",
      "  CONSTRUCTION      = \"Generic Exterior Wall_c\"\n",
      "  TILT              =  90.0\n",
      "  AZIMUTH           =  270.0\n",
      "  X                 =  0.0\n",
      "  Y                 =  10.0\n",
      "  Z                 =  -6.123233995736766e-16\n",
      "  ..\n",
      "\n",
      "\"Face 7c8ec\" = ROOF\n",
      "  POLYGON           = \"Face 7c8ec Plg\"\n",
      "  CONSTRUCTION      = \"Generic Interior Ceiling_c\"\n",
      "  TILT              =  0.0\n",
      "  AZIMUTH           =  0.0\n",
      "  X                 =  0.0\n",
      "  Y                 =  0.0\n",
      "  Z                 =  3.0\n",
      "  ..\n",
      "\n",
      "\n",
      "\"Room 28562\" = SPACE\n",
      "   SHAPE           = POLYGON\n",
      "   POLYGON         = \"Face 8f26e Plg\"\n",
      "  VOLUME           = 300.0\n",
      "  ..\n",
      "\n",
      "\"Face 4724b\" = EXTERIOR-WALL\n",
      "  POLYGON           = \"Face 4724b Plg\"\n",
      "  CONSTRUCTION      = \"Generic Exterior Wall_c\"\n",
      "  TILT              =  90.0\n",
      "  AZIMUTH           =  180.0\n",
      "  X                 =  10.0\n",
      "  Y                 =  0.0\n",
      "  Z                 =  -6.123233995736766e-16\n",
      "  ..\n",
      "\n",
      "\n",
      "\"Face c7096\" = EXTERIOR-WALL\n",
      "  POLYGON           = \"Face c7096 Plg\"\n",
      "  CONSTRUCTION      = \"Generic Exterior Wall_c\"\n",
      "  TILT              =  90.0\n",
      "  AZIMUTH           =  90.0\n",
      "  X                 =  20.0\n",
      "  Y                 =  3.7493994566546446e-32\n",
      "  Z                 =  -6.123233995736766e-16\n",
      "  ..\n",
      "\n",
      "\n",
      "\"Face 6ab51\" = EXTERIOR-WALL\n",
      "  POLYGON           = \"Face 6ab51 Plg\"\n",
      "  CONSTRUCTION      = \"Generic Exterior Wall_c\"\n",
      "  TILT              =  90.0\n",
      "  AZIMUTH           =  0.0\n",
      "  X                 =  20.0\n",
      "  Y                 =  10.0\n",
      "  Z                 =  -6.123233995736766e-16\n",
      "  ..\n",
      "\n",
      "\n",
      "\"Face af261\" = INTERIOR-WALL\n",
      "  POLYGON           = \"Face af261 Plg\"\n",
      "  CONSTRUCTION      = \"Generic Interior Wall_c\"\n",
      "  TILT              =  90.0\n",
      "  AZIMUTH           =  270.0\n",
      "  X                 =  10.0\n",
      "  Y                 =  10.0\n",
      "  Z                 =  -6.123233995736766e-16\n",
      "  ..\n",
      "\n",
      "\"Face bfbf6\" = ROOF\n",
      "  POLYGON           = \"Face bfbf6 Plg\"\n",
      "  CONSTRUCTION      = \"Generic Interior Ceiling_c\"\n",
      "  TILT              =  0.0\n",
      "  AZIMUTH           =  0.0\n",
      "  X                 =  10.0\n",
      "  Y                 =  0.0\n",
      "  Z                 =  3.0\n",
      "  ..\n",
      "\n"
     ]
    }
   ],
   "source": [
    "from honeybee.model import Model\n",
    "from honeybee.room import Room\n",
    "from honeybee.face import Face\n",
    "from honeybee.shade import Shade\n",
    "from honeybee.aperture import Aperture\n",
    "from honeybee.door import Door\n",
    "from honeybee.boundarycondition import Surface\n",
    "from honeybee.facetype import face_types\n",
    "from honeybee.units import conversion_factor_to_meters\n",
    "\n",
    "from ladybug_geometry.geometry3d.pointvector import Point3D, Vector3D\n",
    "from ladybug_geometry.geometry3d.plane import Plane\n",
    "from ladybug_geometry.geometry3d.face import Face3D\n",
    "\n",
    "from honeybee_doe2.writer import model_to_inp #prolly need to add this as a model function... \n",
    "from pprint import pprint\n",
    "\n",
    "from honeybee_doe2.properties.story import Doe2Story\n",
    "\n",
    "\n",
    "tmodel = Model.from_hbjson('samples\\cubetower.hbjson')\n",
    "\n",
    "group_tupe = Room.group_by_floor_height(tmodel.rooms, 0.1)\n",
    "\n",
    "stories = []\n",
    "\n",
    "for i, story in enumerate(group_tupe[0]):\n",
    "    stories.append(Doe2Story(story,i))\n",
    "\n",
    "   \n",
    "print(stories[0])\n",
    "\n"
   ]
  },
  {
   "cell_type": "code",
   "execution_count": 4,
   "metadata": {},
   "outputs": [
    {
     "data": {
      "text/plain": [
       "[\"Face 51f25\" = EXTERIOR-WALL\n",
       "   POLYGON           = \"Face 51f25 Plg\"\n",
       "   CONSTRUCTION      = \"Generic Exterior Wall_c\"\n",
       "   TILT              =  90.0\n",
       "   AZIMUTH           =  180.0\n",
       "   X                 =  3.7493994566546446e-32\n",
       "   Y                 =  0.0\n",
       "   Z                 =  -6.123233995736766e-16\n",
       "   ..,\n",
       " \"Face 9764a\" = INTERIOR-WALL\n",
       "   POLYGON           = \"Face 9764a Plg\"\n",
       "   CONSTRUCTION      = \"Generic Interior Wall_c\"\n",
       "   TILT              =  90.0\n",
       "   AZIMUTH           =  90.0\n",
       "   X                 =  10.0\n",
       "   Y                 =  3.7493994566546446e-32\n",
       "   Z                 =  -6.123233995736766e-16\n",
       "   ..,\n",
       " \"Face 375f2\" = EXTERIOR-WALL\n",
       "   POLYGON           = \"Face 375f2 Plg\"\n",
       "   CONSTRUCTION      = \"Generic Exterior Wall_c\"\n",
       "   TILT              =  90.0\n",
       "   AZIMUTH           =  0.0\n",
       "   X                 =  10.0\n",
       "   Y                 =  10.0\n",
       "   Z                 =  -6.123233995736766e-16\n",
       "   ..,\n",
       " \"Face 4ee55\" = EXTERIOR-WALL\n",
       "   POLYGON           = \"Face 4ee55 Plg\"\n",
       "   CONSTRUCTION      = \"Generic Exterior Wall_c\"\n",
       "   TILT              =  90.0\n",
       "   AZIMUTH           =  270.0\n",
       "   X                 =  0.0\n",
       "   Y                 =  10.0\n",
       "   Z                 =  -6.123233995736766e-16\n",
       "   ..]"
      ]
     },
     "execution_count": 4,
     "metadata": {},
     "output_type": "execute_result"
    }
   ],
   "source": [
    "rm = tmodel.rooms[0]\n",
    "\n",
    "rm.properties.doe2.walls"
   ]
  },
  {
   "cell_type": "code",
   "execution_count": 5,
   "metadata": {},
   "outputs": [
    {
     "data": {
      "text/plain": [
       "['1', '0', '3', '2', '13']"
      ]
     },
     "execution_count": 5,
     "metadata": {},
     "output_type": "execute_result"
    }
   ],
   "source": [
    "tmodel.stories"
   ]
  },
  {
   "cell_type": "code",
   "execution_count": 6,
   "metadata": {},
   "outputs": [
    {
     "name": "stdout",
     "output_type": "stream",
     "text": [
      "\"Double Low-E Window\" = GLASS-TYPE\n",
      "   TYPE               = SHADING-COEF\n",
      "   SHADING-COEF       = 0.48810970326870606\n",
      "   GLASS-CONDUCT      = 0.299\n",
      "   ..\n",
      "\n"
     ]
    }
   ],
   "source": [
    "from honeybee_energy.material.glazing import EnergyWindowMaterialGlazing\n",
    "from honeybee_energy.material.gas import EnergyWindowMaterialGas\n",
    "from honeybee_energy.construction.window import WindowConstruction\n",
    "\n",
    "from honeybee_doe2.properties.inputils.glass_types import GlassType\n",
    "\n",
    "\n",
    "lowe_glass = EnergyWindowMaterialGlazing(\n",
    "        'Low-e Glass', 0.00318, 0.4517, 0.359, 0.714, 0.207,\n",
    "        0, 0.84, 0.046578, 1.0)\n",
    "clear_glass = EnergyWindowMaterialGlazing(\n",
    "        'Clear Glass', 0.005715, 0.770675, 0.07, 0.8836, 0.0804,\n",
    "        0, 0.84, 0.84, 1.0)\n",
    "gap = EnergyWindowMaterialGas('air gap', thickness=0.0127)\n",
    "double_low_e = WindowConstruction(\n",
    "        'Double Low-E Window', [lowe_glass, gap, clear_glass])\n",
    "\n",
    "test_type = GlassType.from_hb_window_constr(double_low_e)\n",
    "print(test_type.to_inp())"
   ]
  },
  {
   "cell_type": "code",
   "execution_count": 7,
   "metadata": {},
   "outputs": [
    {
     "data": {
      "text/plain": [
       "\"Walltest Plg\" = POLYGON\n",
       "   V1        = ( 0.000000, 0.000000 )\n",
       "   V2        = ( 10.000000, 0.000000 )\n",
       "   V3        = ( 10.000000, 3.000000 )\n",
       "   V4        = ( 0.000000, 3.000000 )\n",
       "   .."
      ]
     },
     "execution_count": 7,
     "metadata": {},
     "output_type": "execute_result"
    }
   ],
   "source": [
    "from honeybee.face import Face\n",
    "from honeybee.facetype import face_types, Wall\n",
    "from ladybug_geometry.geometry3d.face import Face3D\n",
    "from ladybug_geometry.geometry3d.pointvector import Point3D, Vector3D\n",
    "from ladybug_geometry.geometry3d.plane import Plane\n",
    "import uuid as py_uuid\n",
    "from honeybee_doe2.geometry.polygon import DoePolygon as doepoly\n",
    "from pprint import pprint\n",
    "\n",
    "vertices = [Point3D(0, 0, 0), Point3D(0, 10, 0), Point3D(0, 10, 3), Point3D(0, 0, 3)]\n",
    "\n",
    "unique_id = str(py_uuid.uuid4())\n",
    "face = Face(unique_id, Face3D(vertices))\n",
    "face.display_name = 'Walltest'\n",
    "\n",
    "\n",
    "testpoly = doepoly.from_face(face)\n",
    "testpoly"
   ]
  },
  {
   "cell_type": "code",
   "execution_count": 8,
   "metadata": {},
   "outputs": [
    {
     "name": "stdout",
     "output_type": "stream",
     "text": [
      "\"Walltest Plg\" = POLYGON\n",
      "   V1        = ( 0.000000, 0.000000 )\n",
      "   V2        = ( 10.000000, 0.000000 )\n",
      "   V3        = ( 10.000000, 3.000000 )\n",
      "   V4        = ( 0.000000, 3.000000 )\n",
      "   ..\n"
     ]
    }
   ],
   "source": [
    "print(face.properties.doe2.poly)"
   ]
  },
  {
   "cell_type": "code",
   "execution_count": 9,
   "metadata": {},
   "outputs": [
    {
     "name": "stdout",
     "output_type": "stream",
     "text": [
      "TITLE\n",
      "    LINE-1           = *sdf*\n",
      "    ..\n"
     ]
    }
   ],
   "source": [
    "from honeybee_doe2.properties.inputils.title import Title\n",
    "\n",
    "test = Title(title='sdf')\n",
    "print(str(test.to_inp()))"
   ]
  },
  {
   "cell_type": "code",
   "execution_count": 10,
   "metadata": {},
   "outputs": [
    {
     "name": "stdout",
     "output_type": "stream",
     "text": [
      "$---------------------------------------------------------\n",
      "$              Site and Building Data\n",
      "$---------------------------------------------------------\n",
      "\n",
      "\"Site Data\" = SITE-PARAMETERS\n",
      "  ALTITUDE          = 150\n",
      "  C-STATE           = 21\n",
      "  C-WEATHER-FILE    = *TMY2\\HARTFOCT.bin* \n",
      "  C-COUNTRY         = 1\n",
      "  C-901-LOCATION    = 1092\n",
      "  ..\n",
      "\"Building Data\" = BUILD-PARAMETERS\n",
      "  HOLIDAYS        = \"Standard US Holidays\"\n",
      "  ..\n",
      "\n",
      "\n",
      "PROJECT-DATA\n",
      "  ..\n",
      "\n",
      "\n"
     ]
    }
   ],
   "source": [
    "from honeybee_doe2.properties.inputils.sitebldg import SiteBldgData as sbd\n",
    "\n",
    "\n",
    "\n",
    "abc = sbd()\n",
    "\n",
    "print(abc.to_inp())"
   ]
  },
  {
   "cell_type": "code",
   "execution_count": 11,
   "metadata": {},
   "outputs": [],
   "source": [
    "from honeybee.room import Room\n",
    "\n",
    "room = Room.from_box('mybox', 3,3,3)\n",
    "\n",
    "\n",
    "#print(room.properties.doe2.space)\n",
    "#print(room.properties.doe2.poly)\n"
   ]
  },
  {
   "cell_type": "code",
   "execution_count": null,
   "metadata": {},
   "outputs": [],
   "source": []
  },
  {
   "cell_type": "code",
   "execution_count": 12,
   "metadata": {},
   "outputs": [
    {
     "data": {
      "text/plain": [
       "\"Walltest Plg\" = POLYGON\n",
       "   V1        = ( 0.000000, 0.000000 )\n",
       "   V2        = ( -10.000000, 0.000000 )\n",
       "   V3        = ( -10.000000, -3.000000 )\n",
       "   V4        = ( 0.000000, -3.000000 )\n",
       "   .."
      ]
     },
     "execution_count": 12,
     "metadata": {},
     "output_type": "execute_result"
    }
   ],
   "source": [
    "from honeybee.face import Face\n",
    "from honeybee.facetype import face_types, Wall\n",
    "from ladybug_geometry.geometry3d.face import Face3D\n",
    "from ladybug_geometry.geometry3d.pointvector import Point3D, Vector3D\n",
    "from ladybug_geometry.geometry3d.plane import Plane\n",
    "import uuid as py_uuid\n",
    "from honeybee_doe2.geometry.polygon import DoePolygon as doepoly\n",
    "from pprint import pprint\n",
    "\n",
    "vertices = [Point3D(0, 0, 0), \n",
    "            Point3D(0, 10, 0), \n",
    "            Point3D(0, 10, 3), \n",
    "            Point3D(0, 0, 3)]\n",
    "\n",
    "unique_id = str(py_uuid.uuid4())\n",
    "test_face = Face(unique_id, Face3D(vertices))\n",
    "test_face.display_name = 'Walltest'\n",
    "\n",
    "class WallStuff:\n",
    "    def __init__(self, _face):\n",
    "        self.host = _face\n",
    "        \n",
    "    @property\n",
    "    def wall_poly(self):\n",
    "        return self._create_wall_poly(self.host)\n",
    "    \n",
    "    @staticmethod\n",
    "    def _create_wall_poly(obj):\n",
    "        return doepoly.from_vertices(name=obj.display_name, vertices=obj.geometry.polygon2d.vertices)\n",
    "        \n",
    "        \n",
    "mywall = WallStuff(test_face)\n",
    "\n",
    "mywall.wall_poly"
   ]
  },
  {
   "cell_type": "code",
   "execution_count": 13,
   "metadata": {},
   "outputs": [
    {
     "data": {
      "text/plain": [
       "\"Walltest Plg\" = POLYGON\n",
       "   V1        = ( 0.000000, 0.000000 )\n",
       "   V2        = ( -10.000000, 0.000000 )\n",
       "   V3        = ( -10.000000, -3.000000 )\n",
       "   V4        = ( 0.000000, -3.000000 )\n",
       "   .."
      ]
     },
     "execution_count": 13,
     "metadata": {},
     "output_type": "execute_result"
    }
   ],
   "source": [
    "from honeybee_doe2.properties.wall import DoeWall\n",
    "\n",
    "new_wall = WallStuff(test_face)\n",
    "new_wall.wall_poly\n"
   ]
  },
  {
   "cell_type": "code",
   "execution_count": 14,
   "metadata": {},
   "outputs": [
    {
     "data": {
      "text/plain": [
       "\"mybox_Front\" = EXTERIOR-WALL\n",
       "  POLYGON           = \"mybox_Front Plg\"\n",
       "  CONSTRUCTION      = \"Generic Exterior Wall_c\"\n",
       "  TILT              =  90.0\n",
       "  AZIMUTH           =  0.0\n",
       "  X                 =  3.0\n",
       "  Y                 =  3.0\n",
       "  Z                 =  -1.8369701987210297e-16\n",
       "  .."
      ]
     },
     "execution_count": 14,
     "metadata": {},
     "output_type": "execute_result"
    }
   ],
   "source": [
    "from honeybee.face import Face\n",
    "from honeybee.facetype import face_types, Wall\n",
    "from ladybug_geometry.geometry3d.face import Face3D\n",
    "from ladybug_geometry.geometry3d.pointvector import Point3D, Vector3D\n",
    "from ladybug_geometry.geometry3d.plane import Plane\n",
    "import uuid as py_uuid\n",
    "from honeybee_doe2.geometry.polygon import DoePolygon as doepoly\n",
    "from pprint import pprint\n",
    "from honeybee.room import Room\n",
    "\n",
    "vertices = [Point3D(0, 0, 0), Point3D(0, 10, 0), Point3D(0, 10, 3), Point3D(0, 0, 3)]\n",
    "\n",
    "unique_id = str(py_uuid.uuid4())\n",
    "test_face = Face(unique_id, Face3D(vertices))\n",
    "test_face.display_name = 'doetestwall'\n",
    "\n",
    "from honeybee_doe2.properties.wall import DoeWall\n",
    "\n",
    "mywall = DoeWall(_face=test_face)\n",
    "\n",
    "\n",
    "room = Room.from_box('mybox', 3,3,3)\n",
    "\n",
    "mywall = DoeWall(_face=room.faces[1])\n",
    "\n",
    "mywall.wall_obj"
   ]
  },
  {
   "cell_type": "code",
   "execution_count": null,
   "metadata": {},
   "outputs": [],
   "source": []
  }
 ],
 "metadata": {
  "kernelspec": {
   "display_name": "Python 3.9.5 ('.env': venv)",
   "language": "python",
   "name": "python3"
  },
  "language_info": {
   "codemirror_mode": {
    "name": "ipython",
    "version": 3
   },
   "file_extension": ".py",
   "mimetype": "text/x-python",
   "name": "python",
   "nbconvert_exporter": "python",
   "pygments_lexer": "ipython3",
   "version": "3.9.5"
  },
  "orig_nbformat": 4,
  "vscode": {
   "interpreter": {
    "hash": "f576465c0bc23e60f9adbda605c57e4ffa2e9d247e18f22fbcc9a9c90d757712"
   }
  }
 },
 "nbformat": 4,
 "nbformat_minor": 2
}
