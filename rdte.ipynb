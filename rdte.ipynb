{
 "cells": [
  {
   "cell_type": "code",
   "execution_count": 1,
   "metadata": {},
   "outputs": [
    {
     "name": "stdout",
     "output_type": "stream",
     "text": [
      "\"Walltest Plg\" = POLYGON\n",
      "   V1        = ( 0.000000, 0.000000 )\n",
      "   V2        = ( 0.000000, 10.000000 )\n",
      "   V3        = ( 0.000000, 10.000000 )\n",
      "   V4        = ( 0.000000, 0.000000 )\n",
      "   ..\n"
     ]
    }
   ],
   "source": [
    "from honeybee.face import Face\n",
    "from honeybee.facetype import face_types, Wall\n",
    "from ladybug_geometry.geometry3d.face import Face3D\n",
    "from ladybug_geometry.geometry3d.pointvector import Point3D, Vector3D\n",
    "from ladybug_geometry.geometry3d.plane import Plane\n",
    "import uuid as py_uuid\n",
    "from honeybee_doe2.geometry.polygon import DoePolygon as doepoly\n",
    "from pprint import pprint\n",
    "\n",
    "vertices = [Point3D(0, 0, 0), Point3D(0, 10, 0), Point3D(0, 10, 3), Point3D(0, 0, 3)]\n",
    "\n",
    "unique_id = str(py_uuid.uuid4())\n",
    "face = Face(unique_id, Face3D(vertices))\n",
    "face.display_name = 'Walltest'\n",
    "\n",
    "\n",
    "testpoly = doepoly.from_face(face)\n",
    "pprint(testpoly)"
   ]
  },
  {
   "cell_type": "code",
   "execution_count": 2,
   "metadata": {},
   "outputs": [
    {
     "name": "stdout",
     "output_type": "stream",
     "text": [
      "\"Walltest Plg\" = POLYGON\n",
      "   V1        = ( 0.000000, 0.000000 )\n",
      "   V2        = ( 0.000000, 10.000000 )\n",
      "   V3        = ( 0.000000, 10.000000 )\n",
      "   V4        = ( 0.000000, 0.000000 )\n",
      "   ..\n"
     ]
    }
   ],
   "source": [
    "print(face.properties.doe2.poly())"
   ]
  },
  {
   "cell_type": "code",
   "execution_count": 9,
   "metadata": {},
   "outputs": [
    {
     "name": "stdout",
     "output_type": "stream",
     "text": [
      "TITLE\n",
      "    LINE-1           = *sdf*\n",
      "    ..\n"
     ]
    }
   ],
   "source": [
    "from honeybee_doe2.properties.inputils.title import Title\n",
    "\n",
    "test = Title(title='sdf')\n",
    "print(str(test.to_inp()))"
   ]
  },
  {
   "cell_type": "code",
   "execution_count": null,
   "metadata": {},
   "outputs": [],
   "source": []
  }
 ],
 "metadata": {
  "kernelspec": {
   "display_name": "Python 3.9.5 ('.env': venv)",
   "language": "python",
   "name": "python3"
  },
  "language_info": {
   "codemirror_mode": {
    "name": "ipython",
    "version": 3
   },
   "file_extension": ".py",
   "mimetype": "text/x-python",
   "name": "python",
   "nbconvert_exporter": "python",
   "pygments_lexer": "ipython3",
   "version": "3.9.5"
  },
  "orig_nbformat": 4,
  "vscode": {
   "interpreter": {
    "hash": "f576465c0bc23e60f9adbda605c57e4ffa2e9d247e18f22fbcc9a9c90d757712"
   }
  }
 },
 "nbformat": 4,
 "nbformat_minor": 2
}
