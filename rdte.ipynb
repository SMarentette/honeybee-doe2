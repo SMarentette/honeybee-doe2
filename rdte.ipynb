{
 "cells": [
  {
   "cell_type": "code",
   "execution_count": null,
   "metadata": {},
   "outputs": [
    {
     "name": "stdout",
     "output_type": "stream",
     "text": [
      "\"Walltest Plg\" = POLYGON\n",
      "   V1        = ( 0.000000, 0.000000 )\n",
      "   V2        = ( 0.000000, 10.000000 )\n",
      "   V3        = ( 0.000000, 10.000000 )\n",
      "   V4        = ( 0.000000, 0.000000 )\n",
      "   ..\n"
     ]
    }
   ],
   "source": [
    "from honeybee.face import Face\n",
    "from honeybee.facetype import face_types, Wall\n",
    "from ladybug_geometry.geometry3d.face import Face3D\n",
    "from ladybug_geometry.geometry3d.pointvector import Point3D, Vector3D\n",
    "from ladybug_geometry.geometry3d.plane import Plane\n",
    "import uuid as py_uuid\n",
    "from honeybee_doe2.geometry.polygon import DoePolygon as doepoly\n",
    "from pprint import pprint\n",
    "\n",
    "vertices = [Point3D(0, 0, 0), Point3D(0, 10, 0), Point3D(0, 10, 3), Point3D(0, 0, 3)]\n",
    "\n",
    "unique_id = str(py_uuid.uuid4())\n",
    "face = Face(unique_id, Face3D(vertices))\n",
    "face.display_name = 'Walltest'\n",
    "\n",
    "\n",
    "testpoly = doepoly.from_face(face)\n",
    "pprint(testpoly)"
   ]
  },
  {
   "cell_type": "code",
   "execution_count": null,
   "metadata": {},
   "outputs": [
    {
     "name": "stdout",
     "output_type": "stream",
     "text": [
      "\"Walltest Plg\" = POLYGON\n",
      "   V1        = ( 0.000000, 0.000000 )\n",
      "   V2        = ( 0.000000, 10.000000 )\n",
      "   V3        = ( 0.000000, 10.000000 )\n",
      "   V4        = ( 0.000000, 0.000000 )\n",
      "   ..\n"
     ]
    }
   ],
   "source": [
    "print(face.properties.doe2.poly)"
   ]
  },
  {
   "cell_type": "code",
   "execution_count": null,
   "metadata": {},
   "outputs": [
    {
     "name": "stdout",
     "output_type": "stream",
     "text": [
      "TITLE\n",
      "    LINE-1           = *sdf*\n",
      "    ..\n"
     ]
    }
   ],
   "source": [
    "from honeybee_doe2.properties.inputils.title import Title\n",
    "\n",
    "test = Title(title='sdf')\n",
    "print(str(test.to_inp()))"
   ]
  },
  {
   "cell_type": "code",
   "execution_count": null,
   "metadata": {},
   "outputs": [
    {
     "name": "stdout",
     "output_type": "stream",
     "text": [
      "$---------------------------------------------------------\n",
      "$              Site and Building Data\n",
      "$---------------------------------------------------------\n",
      "\n",
      "\"Site Data\" = SITE-PARAMETERS\n",
      "  ALTITUDE          = 150\n",
      "  C-STATE           = 21\n",
      "  C-WEATHER-FILE    = *TMY2\\HARTFOCT.bin* \n",
      "  C-COUNTRY         = 1\n",
      "  C-901-LOCATION    = 1092\n",
      "  ..\n",
      "\"Building Data\" = BUILD-PARAMETERS\n",
      "  HOLIDAYS        = \"Standard US Holidays\"\n",
      "  ..\n",
      "\n",
      "\n",
      "PROJECT-DATA\n",
      "  ..\n",
      "\n",
      "\n"
     ]
    }
   ],
   "source": [
    "from honeybee_doe2.properties.inputils.sitebldg import SiteBldgData as sbd\n",
    "\n",
    "\n",
    "\n",
    "abc = sbd()\n",
    "\n",
    "print(abc.to_inp())"
   ]
  },
  {
   "cell_type": "code",
   "execution_count": null,
   "metadata": {},
   "outputs": [
    {
     "name": "stdout",
     "output_type": "stream",
     "text": [
      "\"Double Low-E Window\" = GLASS-TYPE\n",
      "   TYPE               = SHADING-COEF\n",
      "   SHADING-COEF       = 0.48810970326870606\n",
      "   GLASS-CONDUCT      = 0.299\n",
      "   ..\n",
      "\n"
     ]
    }
   ],
   "source": [
    "from honeybee_energy.material.glazing import EnergyWindowMaterialGlazing\n",
    "from honeybee_energy.material.gas import EnergyWindowMaterialGas\n",
    "from honeybee_energy.construction.window import WindowConstruction\n",
    "\n",
    "from honeybee_doe2.properties.inputils.glass_types import GlassType\n",
    "\n",
    "\n",
    "lowe_glass = EnergyWindowMaterialGlazing(\n",
    "        'Low-e Glass', 0.00318, 0.4517, 0.359, 0.714, 0.207,\n",
    "        0, 0.84, 0.046578, 1.0)\n",
    "clear_glass = EnergyWindowMaterialGlazing(\n",
    "        'Clear Glass', 0.005715, 0.770675, 0.07, 0.8836, 0.0804,\n",
    "        0, 0.84, 0.84, 1.0)\n",
    "gap = EnergyWindowMaterialGas('air gap', thickness=0.0127)\n",
    "double_low_e = WindowConstruction(\n",
    "        'Double Low-E Window', [lowe_glass, gap, clear_glass])\n",
    "\n",
    "test_type = GlassType.from_hb_window_constr(double_low_e)\n",
    "print(test_type.to_inp())"
   ]
  },
  {
   "cell_type": "code",
   "execution_count": null,
   "metadata": {},
   "outputs": [
    {
     "ename": "NameError",
     "evalue": "name 'story_geom' is not defined",
     "output_type": "error",
     "traceback": [
      "\u001b[1;31m---------------------------------------------------------------------------\u001b[0m",
      "\u001b[1;31mNameError\u001b[0m                                 Traceback (most recent call last)",
      "Cell \u001b[1;32mIn [7], line 21\u001b[0m\n\u001b[0;32m     16\u001b[0m \u001b[38;5;28;01mfrom\u001b[39;00m \u001b[38;5;21;01mpprint\u001b[39;00m \u001b[38;5;28;01mimport\u001b[39;00m pprint\n\u001b[0;32m     19\u001b[0m tmodel \u001b[38;5;241m=\u001b[39m Model\u001b[38;5;241m.\u001b[39mfrom_hbjson(\u001b[38;5;124m'\u001b[39m\u001b[38;5;124msamples\u001b[39m\u001b[38;5;124m\\\u001b[39m\u001b[38;5;124mcubetower.hbjson\u001b[39m\u001b[38;5;124m'\u001b[39m)\n\u001b[1;32m---> 21\u001b[0m \u001b[38;5;28mprint\u001b[39m(tmodel\u001b[38;5;241m.\u001b[39mproperties\u001b[38;5;241m.\u001b[39mdoe2\u001b[38;5;241m.\u001b[39mstories)\n",
      "File \u001b[1;32md:\\_BR+A\\_aBasecamp\\___bra_git_org\\honeybee-doe2\\honeybee_doe2\\properties\\model.py:54\u001b[0m, in \u001b[0;36mModelDoe2Properties.stories\u001b[1;34m(self)\u001b[0m\n\u001b[0;32m     52\u001b[0m \u001b[39m@property\u001b[39m\n\u001b[0;32m     53\u001b[0m \u001b[39mdef\u001b[39;00m \u001b[39mstories\u001b[39m(\u001b[39mself\u001b[39m):\n\u001b[1;32m---> 54\u001b[0m     \u001b[39mreturn\u001b[39;00m \u001b[39mself\u001b[39;49m\u001b[39m.\u001b[39;49m_make_doe_stories(\u001b[39mself\u001b[39;49m\u001b[39m.\u001b[39;49mhost)\n",
      "File \u001b[1;32md:\\_BR+A\\_aBasecamp\\___bra_git_org\\honeybee-doe2\\honeybee_doe2\\properties\\model.py:73\u001b[0m, in \u001b[0;36mModelDoe2Properties._make_doe_stories\u001b[1;34m(obj)\u001b[0m\n\u001b[0;32m     69\u001b[0m \u001b[39mfor\u001b[39;00m story \u001b[39min\u001b[39;00m storygroups:\n\u001b[0;32m     71\u001b[0m     \u001b[39mfor\u001b[39;00m room \u001b[39min\u001b[39;00m story:\n\u001b[0;32m     72\u001b[0m         \u001b[39m# *geometry\u001b[39;00m\n\u001b[1;32m---> 73\u001b[0m         story_geom\u001b[39m.\u001b[39mappend()\n\u001b[0;32m     74\u001b[0m     floor_geom\u001b[39m.\u001b[39mappend(room\u001b[39m.\u001b[39mproperties\u001b[39m.\u001b[39mdoe2\u001b[39m.\u001b[39mpoly)\n\u001b[0;32m     75\u001b[0m \u001b[39m# ? 1. floor geom | floor/space bs | windows\u001b[39;00m\n\u001b[0;32m     76\u001b[0m \u001b[39m# ? 2. activity description | loads or whatever\u001b[39;00m\n",
      "\u001b[1;31mNameError\u001b[0m: name 'story_geom' is not defined"
     ]
    }
   ],
   "source": [
    "from honeybee.model import Model\n",
    "from honeybee.room import Room\n",
    "from honeybee.face import Face\n",
    "from honeybee.shade import Shade\n",
    "from honeybee.aperture import Aperture\n",
    "from honeybee.door import Door\n",
    "from honeybee.boundarycondition import Surface\n",
    "from honeybee.facetype import face_types\n",
    "from honeybee.units import conversion_factor_to_meters\n",
    "\n",
    "from ladybug_geometry.geometry3d.pointvector import Point3D, Vector3D\n",
    "from ladybug_geometry.geometry3d.plane import Plane\n",
    "from ladybug_geometry.geometry3d.face import Face3D\n",
    "\n",
    "from honeybee_doe2.writer import model_to_inp #prolly need to add this as a model function... \n",
    "from pprint import pprint\n",
    "\n",
    "\n",
    "tmodel = Model.from_hbjson('samples\\cubetower.hbjson')\n",
    "\n",
    "print(tmodel.properties.doe2.stories)\n",
    "\n",
    "\n"
   ]
  },
  {
   "cell_type": "code",
   "execution_count": null,
   "metadata": {},
   "outputs": [
    {
     "name": "stdout",
     "output_type": "stream",
     "text": [
      "\"mybox\" = SPACE\n",
      "   SHAPE           = POLYGON\n",
      "   POLYGON         = \"mybox Plg\"\n",
      "   C-ACTIVITY-DESC = *Program Type: Plenum*\n",
      "   ..\n",
      "\n"
     ]
    }
   ],
   "source": [
    "from honeybee.room import Room\n",
    "\n",
    "room = Room.from_box('mybox', 3,3,3)\n",
    "\n",
    "\n",
    "print(room.properties.doe2.space)"
   ]
  },
  {
   "cell_type": "code",
   "execution_count": null,
   "metadata": {},
   "outputs": [
    {
     "name": "stdout",
     "output_type": "stream",
     "text": [
      "\"mybox_Bottom Plg\" = POLYGON\n",
      "   V1        = ( 3.000000, 0.000000 )\n",
      "   V2        = ( 0.000000, 0.000000 )\n",
      "   V3        = ( 0.000000, 3.000000 )\n",
      "   V4        = ( 3.000000, 3.000000 )\n",
      "   ..\n"
     ]
    }
   ],
   "source": [
    "print(room.properties.doe2.poly)"
   ]
  },
  {
   "cell_type": "code",
   "execution_count": null,
   "metadata": {},
   "outputs": [],
   "source": []
  }
 ],
 "metadata": {
  "kernelspec": {
   "display_name": "Python 3.9.5 ('.env': venv)",
   "language": "python",
   "name": "python3"
  },
  "language_info": {
   "codemirror_mode": {
    "name": "ipython",
    "version": 3
   },
   "file_extension": ".py",
   "mimetype": "text/x-python",
   "name": "python",
   "nbconvert_exporter": "python",
   "pygments_lexer": "ipython3",
   "version": "3.9.5"
  },
  "orig_nbformat": 4,
  "vscode": {
   "interpreter": {
    "hash": "f576465c0bc23e60f9adbda605c57e4ffa2e9d247e18f22fbcc9a9c90d757712"
   }
  }
 },
 "nbformat": 4,
 "nbformat_minor": 2
}
