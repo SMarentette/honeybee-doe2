{
 "cells": [
  {
   "cell_type": "code",
   "execution_count": 1,
   "metadata": {},
   "outputs": [
    {
     "ename": "AttributeError",
     "evalue": "'Face' object has no attribute 'flip'",
     "output_type": "error",
     "traceback": [
      "\u001b[1;31m---------------------------------------------------------------------------\u001b[0m",
      "\u001b[1;31mAttributeError\u001b[0m                            Traceback (most recent call last)",
      "Cell \u001b[1;32mIn [1], line 20\u001b[0m\n\u001b[0;32m     16\u001b[0m \u001b[38;5;28;01mfrom\u001b[39;00m \u001b[38;5;21;01mpprint\u001b[39;00m \u001b[38;5;28;01mimport\u001b[39;00m pprint\n\u001b[0;32m     19\u001b[0m tmodel \u001b[38;5;241m=\u001b[39m Model\u001b[38;5;241m.\u001b[39mfrom_hbjson(\u001b[38;5;124m'\u001b[39m\u001b[38;5;124msamples\u001b[39m\u001b[38;5;130;01m\\\\\u001b[39;00m\u001b[38;5;124mhb_jsons\u001b[39m\u001b[38;5;130;01m\\\\\u001b[39;00m\u001b[38;5;124msimple_adj_with_overhang.hbjson\u001b[39m\u001b[38;5;124m'\u001b[39m)\n\u001b[1;32m---> 20\u001b[0m inp_model \u001b[38;5;241m=\u001b[39m model_to_inp(tmodel)\n\u001b[0;32m     23\u001b[0m \u001b[38;5;28;01mwith\u001b[39;00m \u001b[38;5;28mopen\u001b[39m(\u001b[38;5;124m'\u001b[39m\u001b[38;5;124mtests\u001b[39m\u001b[38;5;130;01m\\\\\u001b[39;00m\u001b[38;5;124mequest_inputs\u001b[39m\u001b[38;5;130;01m\\\\\u001b[39;00m\u001b[38;5;124msimple_floor_adj_overhang.inp\u001b[39m\u001b[38;5;124m'\u001b[39m, \u001b[38;5;124m'\u001b[39m\u001b[38;5;124mw\u001b[39m\u001b[38;5;124m'\u001b[39m) \u001b[38;5;28;01mas\u001b[39;00m f:\n\u001b[0;32m     24\u001b[0m     f\u001b[38;5;241m.\u001b[39mwrite(inp_model)\n",
      "File \u001b[1;32md:\\_BR+A\\_aBasecamp\\___bra_git_org\\honeybee-doe2\\honeybee_doe2\\writer.py:82\u001b[0m, in \u001b[0;36mmodel_to_inp\u001b[1;34m(hb_model)\u001b[0m\n\u001b[0;32m     59\u001b[0m     \u001b[39mif\u001b[39;00m \u001b[39misinstance\u001b[39m(construction, WindowConstruction):\n\u001b[0;32m     60\u001b[0m         window_constructions\u001b[39m.\u001b[39mappend(GlassType\u001b[39m.\u001b[39mfrom_hb_window_constr(construction))\n\u001b[0;32m     62\u001b[0m data \u001b[39m=\u001b[39m [\n\u001b[0;32m     63\u001b[0m     hb_model\u001b[39m.\u001b[39mproperties\u001b[39m.\u001b[39mdoe2\u001b[39m.\u001b[39m_header,\n\u001b[0;32m     64\u001b[0m     fb\u001b[39m.\u001b[39mglobal_params,\n\u001b[0;32m     65\u001b[0m     fb\u001b[39m.\u001b[39mttrpddh,\n\u001b[0;32m     66\u001b[0m     Title(title\u001b[39m=\u001b[39m\u001b[39mstr\u001b[39m(hb_model\u001b[39m.\u001b[39mdisplay_name))\u001b[39m.\u001b[39mto_inp(),\n\u001b[0;32m     67\u001b[0m     rp\u001b[39m.\u001b[39mto_inp(),  \u001b[39m# TODO unhardcode\u001b[39;00m\n\u001b[0;32m     68\u001b[0m     fb\u001b[39m.\u001b[39mcomply,\n\u001b[0;32m     69\u001b[0m     comp_data\u001b[39m.\u001b[39mto_inp(),\n\u001b[0;32m     70\u001b[0m     sb_data\u001b[39m.\u001b[39mto_inp(),\n\u001b[0;32m     71\u001b[0m     fb\u001b[39m.\u001b[39mmats_layers,\n\u001b[0;32m     72\u001b[0m     hb_model\u001b[39m.\u001b[39mproperties\u001b[39m.\u001b[39mdoe2\u001b[39m.\u001b[39mmats_cons_layers,\n\u001b[0;32m     73\u001b[0m     fb\u001b[39m.\u001b[39mglzCode,\n\u001b[0;32m     74\u001b[0m     \u001b[39m'\u001b[39m\u001b[39m\\n\u001b[39;00m\u001b[39m'\u001b[39m\u001b[39m.\u001b[39mjoin(gt\u001b[39m.\u001b[39mto_inp() \u001b[39mfor\u001b[39;00m gt \u001b[39min\u001b[39;00m window_constructions),\n\u001b[0;32m     75\u001b[0m     fb\u001b[39m.\u001b[39mpolygons,\n\u001b[0;32m     76\u001b[0m     \u001b[39m'\u001b[39m\u001b[39m\\n\u001b[39;00m\u001b[39m'\u001b[39m\u001b[39m.\u001b[39mjoin(s\u001b[39m.\u001b[39mstory_poly \u001b[39mfor\u001b[39;00m s \u001b[39min\u001b[39;00m hb_model\u001b[39m.\u001b[39mproperties\u001b[39m.\u001b[39mdoe2\u001b[39m.\u001b[39mstories),\n\u001b[0;32m     77\u001b[0m     fb\u001b[39m.\u001b[39mwallParams,\n\u001b[0;32m     78\u001b[0m     \u001b[39m# '\\n'.join(shd.to_inp() for shd in hb_model.context_shades),  # TODO shade support\u001b[39;00m\n\u001b[0;32m     79\u001b[0m     fb\u001b[39m.\u001b[39mmiscCost,\n\u001b[0;32m     80\u001b[0m     fb\u001b[39m.\u001b[39mperfCurve,\n\u001b[0;32m     81\u001b[0m     fb\u001b[39m.\u001b[39mfloorNspace,\n\u001b[1;32m---> 82\u001b[0m     \u001b[39m'\u001b[39;49m\u001b[39m\\n\u001b[39;49;00m\u001b[39m'\u001b[39;49m\u001b[39m.\u001b[39;49mjoin(\u001b[39mstr\u001b[39;49m(story) \u001b[39mfor\u001b[39;49;00m story \u001b[39min\u001b[39;49;00m hb_model\u001b[39m.\u001b[39;49mproperties\u001b[39m.\u001b[39;49mdoe2\u001b[39m.\u001b[39;49mstories),\n\u001b[0;32m     83\u001b[0m     fb\u001b[39m.\u001b[39melecFuelMeter,\n\u001b[0;32m     84\u001b[0m     fb\u001b[39m.\u001b[39melec_meter,\n\u001b[0;32m     85\u001b[0m     fb\u001b[39m.\u001b[39mfuel_meter,\n\u001b[0;32m     86\u001b[0m     fb\u001b[39m.\u001b[39mmaster_meter,\n\u001b[0;32m     87\u001b[0m     fb\u001b[39m.\u001b[39mhvac_circ_loop,\n\u001b[0;32m     88\u001b[0m     fb\u001b[39m.\u001b[39mpumps,\n\u001b[0;32m     89\u001b[0m     fb\u001b[39m.\u001b[39mheat_exch,\n\u001b[0;32m     90\u001b[0m     fb\u001b[39m.\u001b[39mcirc_loop,\n\u001b[0;32m     91\u001b[0m     fb\u001b[39m.\u001b[39mchiller_objs,\n\u001b[0;32m     92\u001b[0m     fb\u001b[39m.\u001b[39mboiler_objs,\n\u001b[0;32m     93\u001b[0m     fb\u001b[39m.\u001b[39mdwh,\n\u001b[0;32m     94\u001b[0m     fb\u001b[39m.\u001b[39mheat_reject,\n\u001b[0;32m     95\u001b[0m     fb\u001b[39m.\u001b[39mtower_free,\n\u001b[0;32m     96\u001b[0m     fb\u001b[39m.\u001b[39mpvmod,\n\u001b[0;32m     97\u001b[0m     fb\u001b[39m.\u001b[39melecgen,\n\u001b[0;32m     98\u001b[0m     fb\u001b[39m.\u001b[39mthermal_store,\n\u001b[0;32m     99\u001b[0m     fb\u001b[39m.\u001b[39mground_loop_hx,\n\u001b[0;32m    100\u001b[0m     fb\u001b[39m.\u001b[39mcomp_dhw_res,\n\u001b[0;32m    101\u001b[0m     fb\u001b[39m.\u001b[39msteam_cld_mtr,\n\u001b[0;32m    102\u001b[0m     fb\u001b[39m.\u001b[39msteam_mtr,\n\u001b[0;32m    103\u001b[0m     fb\u001b[39m.\u001b[39mchill_meter,\n\u001b[0;32m    104\u001b[0m     fb\u001b[39m.\u001b[39mhvac_sys_zone,\n\u001b[0;32m    105\u001b[0m     \u001b[39m# '\\n'.join(hv_sys.to_inp()\u001b[39;00m\n\u001b[0;32m    106\u001b[0m     \u001b[39m# for hv_sys in hb_model.hvac_system_zone),  # TODO need to frame up hvac\u001b[39;00m\n\u001b[0;32m    107\u001b[0m     fb\u001b[39m.\u001b[39mmisc_meter_hvac,\n\u001b[0;32m    108\u001b[0m     fb\u001b[39m.\u001b[39mequip_controls,\n\u001b[0;32m    109\u001b[0m     fb\u001b[39m.\u001b[39mload_manage,\n\u001b[0;32m    110\u001b[0m     fb\u001b[39m.\u001b[39mbig_util_rate,\n\u001b[0;32m    111\u001b[0m     fb\u001b[39m.\u001b[39mratchets,\n\u001b[0;32m    112\u001b[0m     fb\u001b[39m.\u001b[39mblock_charge,\n\u001b[0;32m    113\u001b[0m     fb\u001b[39m.\u001b[39msmall_util_rate,\n\u001b[0;32m    114\u001b[0m     fb\u001b[39m.\u001b[39moutput_reporting,\n\u001b[0;32m    115\u001b[0m     fb\u001b[39m.\u001b[39mloads_non_hrly,\n\u001b[0;32m    116\u001b[0m     fb\u001b[39m.\u001b[39msys_non_hrly,\n\u001b[0;32m    117\u001b[0m     fb\u001b[39m.\u001b[39mplant_non_hrly,\n\u001b[0;32m    118\u001b[0m     fb\u001b[39m.\u001b[39mecon_non_hrly,\n\u001b[0;32m    119\u001b[0m     fb\u001b[39m.\u001b[39mhourly_rep,\n\u001b[0;32m    120\u001b[0m     fb\u001b[39m.\u001b[39mthe_end\n\u001b[0;32m    121\u001b[0m ]\n\u001b[0;32m    122\u001b[0m \u001b[39mreturn\u001b[39;00m \u001b[39mstr\u001b[39m(\u001b[39m'\u001b[39m\u001b[39m\\n\u001b[39;00m\u001b[39m\\n\u001b[39;00m\u001b[39m'\u001b[39m\u001b[39m.\u001b[39mjoin(data))\n",
      "File \u001b[1;32md:\\_BR+A\\_aBasecamp\\___bra_git_org\\honeybee-doe2\\honeybee_doe2\\writer.py:82\u001b[0m, in \u001b[0;36m<genexpr>\u001b[1;34m(.0)\u001b[0m\n\u001b[0;32m     59\u001b[0m     \u001b[39mif\u001b[39;00m \u001b[39misinstance\u001b[39m(construction, WindowConstruction):\n\u001b[0;32m     60\u001b[0m         window_constructions\u001b[39m.\u001b[39mappend(GlassType\u001b[39m.\u001b[39mfrom_hb_window_constr(construction))\n\u001b[0;32m     62\u001b[0m data \u001b[39m=\u001b[39m [\n\u001b[0;32m     63\u001b[0m     hb_model\u001b[39m.\u001b[39mproperties\u001b[39m.\u001b[39mdoe2\u001b[39m.\u001b[39m_header,\n\u001b[0;32m     64\u001b[0m     fb\u001b[39m.\u001b[39mglobal_params,\n\u001b[0;32m     65\u001b[0m     fb\u001b[39m.\u001b[39mttrpddh,\n\u001b[0;32m     66\u001b[0m     Title(title\u001b[39m=\u001b[39m\u001b[39mstr\u001b[39m(hb_model\u001b[39m.\u001b[39mdisplay_name))\u001b[39m.\u001b[39mto_inp(),\n\u001b[0;32m     67\u001b[0m     rp\u001b[39m.\u001b[39mto_inp(),  \u001b[39m# TODO unhardcode\u001b[39;00m\n\u001b[0;32m     68\u001b[0m     fb\u001b[39m.\u001b[39mcomply,\n\u001b[0;32m     69\u001b[0m     comp_data\u001b[39m.\u001b[39mto_inp(),\n\u001b[0;32m     70\u001b[0m     sb_data\u001b[39m.\u001b[39mto_inp(),\n\u001b[0;32m     71\u001b[0m     fb\u001b[39m.\u001b[39mmats_layers,\n\u001b[0;32m     72\u001b[0m     hb_model\u001b[39m.\u001b[39mproperties\u001b[39m.\u001b[39mdoe2\u001b[39m.\u001b[39mmats_cons_layers,\n\u001b[0;32m     73\u001b[0m     fb\u001b[39m.\u001b[39mglzCode,\n\u001b[0;32m     74\u001b[0m     \u001b[39m'\u001b[39m\u001b[39m\\n\u001b[39;00m\u001b[39m'\u001b[39m\u001b[39m.\u001b[39mjoin(gt\u001b[39m.\u001b[39mto_inp() \u001b[39mfor\u001b[39;00m gt \u001b[39min\u001b[39;00m window_constructions),\n\u001b[0;32m     75\u001b[0m     fb\u001b[39m.\u001b[39mpolygons,\n\u001b[0;32m     76\u001b[0m     \u001b[39m'\u001b[39m\u001b[39m\\n\u001b[39;00m\u001b[39m'\u001b[39m\u001b[39m.\u001b[39mjoin(s\u001b[39m.\u001b[39mstory_poly \u001b[39mfor\u001b[39;00m s \u001b[39min\u001b[39;00m hb_model\u001b[39m.\u001b[39mproperties\u001b[39m.\u001b[39mdoe2\u001b[39m.\u001b[39mstories),\n\u001b[0;32m     77\u001b[0m     fb\u001b[39m.\u001b[39mwallParams,\n\u001b[0;32m     78\u001b[0m     \u001b[39m# '\\n'.join(shd.to_inp() for shd in hb_model.context_shades),  # TODO shade support\u001b[39;00m\n\u001b[0;32m     79\u001b[0m     fb\u001b[39m.\u001b[39mmiscCost,\n\u001b[0;32m     80\u001b[0m     fb\u001b[39m.\u001b[39mperfCurve,\n\u001b[0;32m     81\u001b[0m     fb\u001b[39m.\u001b[39mfloorNspace,\n\u001b[1;32m---> 82\u001b[0m     \u001b[39m'\u001b[39m\u001b[39m\\n\u001b[39;00m\u001b[39m'\u001b[39m\u001b[39m.\u001b[39mjoin(\u001b[39mstr\u001b[39;49m(story) \u001b[39mfor\u001b[39;00m story \u001b[39min\u001b[39;00m hb_model\u001b[39m.\u001b[39mproperties\u001b[39m.\u001b[39mdoe2\u001b[39m.\u001b[39mstories),\n\u001b[0;32m     83\u001b[0m     fb\u001b[39m.\u001b[39melecFuelMeter,\n\u001b[0;32m     84\u001b[0m     fb\u001b[39m.\u001b[39melec_meter,\n\u001b[0;32m     85\u001b[0m     fb\u001b[39m.\u001b[39mfuel_meter,\n\u001b[0;32m     86\u001b[0m     fb\u001b[39m.\u001b[39mmaster_meter,\n\u001b[0;32m     87\u001b[0m     fb\u001b[39m.\u001b[39mhvac_circ_loop,\n\u001b[0;32m     88\u001b[0m     fb\u001b[39m.\u001b[39mpumps,\n\u001b[0;32m     89\u001b[0m     fb\u001b[39m.\u001b[39mheat_exch,\n\u001b[0;32m     90\u001b[0m     fb\u001b[39m.\u001b[39mcirc_loop,\n\u001b[0;32m     91\u001b[0m     fb\u001b[39m.\u001b[39mchiller_objs,\n\u001b[0;32m     92\u001b[0m     fb\u001b[39m.\u001b[39mboiler_objs,\n\u001b[0;32m     93\u001b[0m     fb\u001b[39m.\u001b[39mdwh,\n\u001b[0;32m     94\u001b[0m     fb\u001b[39m.\u001b[39mheat_reject,\n\u001b[0;32m     95\u001b[0m     fb\u001b[39m.\u001b[39mtower_free,\n\u001b[0;32m     96\u001b[0m     fb\u001b[39m.\u001b[39mpvmod,\n\u001b[0;32m     97\u001b[0m     fb\u001b[39m.\u001b[39melecgen,\n\u001b[0;32m     98\u001b[0m     fb\u001b[39m.\u001b[39mthermal_store,\n\u001b[0;32m     99\u001b[0m     fb\u001b[39m.\u001b[39mground_loop_hx,\n\u001b[0;32m    100\u001b[0m     fb\u001b[39m.\u001b[39mcomp_dhw_res,\n\u001b[0;32m    101\u001b[0m     fb\u001b[39m.\u001b[39msteam_cld_mtr,\n\u001b[0;32m    102\u001b[0m     fb\u001b[39m.\u001b[39msteam_mtr,\n\u001b[0;32m    103\u001b[0m     fb\u001b[39m.\u001b[39mchill_meter,\n\u001b[0;32m    104\u001b[0m     fb\u001b[39m.\u001b[39mhvac_sys_zone,\n\u001b[0;32m    105\u001b[0m     \u001b[39m# '\\n'.join(hv_sys.to_inp()\u001b[39;00m\n\u001b[0;32m    106\u001b[0m     \u001b[39m# for hv_sys in hb_model.hvac_system_zone),  # TODO need to frame up hvac\u001b[39;00m\n\u001b[0;32m    107\u001b[0m     fb\u001b[39m.\u001b[39mmisc_meter_hvac,\n\u001b[0;32m    108\u001b[0m     fb\u001b[39m.\u001b[39mequip_controls,\n\u001b[0;32m    109\u001b[0m     fb\u001b[39m.\u001b[39mload_manage,\n\u001b[0;32m    110\u001b[0m     fb\u001b[39m.\u001b[39mbig_util_rate,\n\u001b[0;32m    111\u001b[0m     fb\u001b[39m.\u001b[39mratchets,\n\u001b[0;32m    112\u001b[0m     fb\u001b[39m.\u001b[39mblock_charge,\n\u001b[0;32m    113\u001b[0m     fb\u001b[39m.\u001b[39msmall_util_rate,\n\u001b[0;32m    114\u001b[0m     fb\u001b[39m.\u001b[39moutput_reporting,\n\u001b[0;32m    115\u001b[0m     fb\u001b[39m.\u001b[39mloads_non_hrly,\n\u001b[0;32m    116\u001b[0m     fb\u001b[39m.\u001b[39msys_non_hrly,\n\u001b[0;32m    117\u001b[0m     fb\u001b[39m.\u001b[39mplant_non_hrly,\n\u001b[0;32m    118\u001b[0m     fb\u001b[39m.\u001b[39mecon_non_hrly,\n\u001b[0;32m    119\u001b[0m     fb\u001b[39m.\u001b[39mhourly_rep,\n\u001b[0;32m    120\u001b[0m     fb\u001b[39m.\u001b[39mthe_end\n\u001b[0;32m    121\u001b[0m ]\n\u001b[0;32m    122\u001b[0m \u001b[39mreturn\u001b[39;00m \u001b[39mstr\u001b[39m(\u001b[39m'\u001b[39m\u001b[39m\\n\u001b[39;00m\u001b[39m\\n\u001b[39;00m\u001b[39m'\u001b[39m\u001b[39m.\u001b[39mjoin(data))\n",
      "File \u001b[1;32md:\\_BR+A\\_aBasecamp\\___bra_git_org\\honeybee-doe2\\honeybee_doe2\\properties\\story.py:80\u001b[0m, in \u001b[0;36mDoe2Story.__repr__\u001b[1;34m(self)\u001b[0m\n\u001b[0;32m     79\u001b[0m \u001b[39mdef\u001b[39;00m \u001b[39m__repr__\u001b[39m(\u001b[39mself\u001b[39m):\n\u001b[1;32m---> 80\u001b[0m     \u001b[39mreturn\u001b[39;00m \u001b[39mself\u001b[39;49m\u001b[39m.\u001b[39;49mto_inp()\n",
      "File \u001b[1;32md:\\_BR+A\\_aBasecamp\\___bra_git_org\\honeybee-doe2\\honeybee_doe2\\properties\\story.py:63\u001b[0m, in \u001b[0;36mDoe2Story.to_inp\u001b[1;34m(self)\u001b[0m\n\u001b[0;32m     61\u001b[0m origin_pt \u001b[39m=\u001b[39m \u001b[39mself\u001b[39m\u001b[39m.\u001b[39mboundary_geometry\u001b[39m.\u001b[39mgeometry\u001b[39m.\u001b[39mlower_left_corner\n\u001b[0;32m     62\u001b[0m azimuth \u001b[39m=\u001b[39m \u001b[39mself\u001b[39m\u001b[39m.\u001b[39mboundary_geometry\u001b[39m.\u001b[39mazimuth\n\u001b[1;32m---> 63\u001b[0m room_objs \u001b[39m=\u001b[39m [f\u001b[39m.\u001b[39mproperties\u001b[39m.\u001b[39mdoe2\u001b[39m.\u001b[39mspace(origin_pt) \u001b[39mfor\u001b[39;00m f \u001b[39min\u001b[39;00m \u001b[39mself\u001b[39m\u001b[39m.\u001b[39mrooms]\n\u001b[0;32m     65\u001b[0m inp_obj \u001b[39m=\u001b[39m \u001b[39m'\u001b[39m\u001b[39m\\n\u001b[39;00m\u001b[39m\"\u001b[39m\u001b[39mLevel_\u001b[39m\u001b[39m{self.story_no}\u001b[39;00m\u001b[39m\"\u001b[39m\u001b[39m= FLOOR\u001b[39m\u001b[39m'\u001b[39m\u001b[39m.\u001b[39mformat(\u001b[39mself\u001b[39m\u001b[39m=\u001b[39m\u001b[39mself\u001b[39m) \u001b[39m+\u001b[39m \\\n\u001b[0;32m     66\u001b[0m     \u001b[39m\"\u001b[39m\u001b[39m\\n\u001b[39;00m\u001b[39m   SHAPE           = POLYGON\u001b[39m\u001b[39m\"\u001b[39m \u001b[39m+\u001b[39m \\\n\u001b[0;32m     67\u001b[0m     \u001b[39m'\u001b[39m\u001b[39m\\n\u001b[39;00m\u001b[39m   POLYGON         = \u001b[39m\u001b[39m\"\u001b[39m\u001b[39mLevel_\u001b[39m\u001b[39m{self.story_no}\u001b[39;00m\u001b[39m Plg\u001b[39m\u001b[39m\"\u001b[39m\u001b[39m'\u001b[39m\u001b[39m.\u001b[39mformat(\u001b[39mself\u001b[39m\u001b[39m=\u001b[39m\u001b[39mself\u001b[39m) \u001b[39m+\u001b[39m \\\n\u001b[1;32m   (...)\u001b[0m\n\u001b[0;32m     73\u001b[0m     \u001b[39m'\u001b[39m\u001b[39m\\n\u001b[39;00m\u001b[39m   FLOOR-HEIGHT    = \u001b[39m\u001b[39m{self.floor_to_floor_height}\u001b[39;00m\u001b[39m'\u001b[39m\u001b[39m.\u001b[39mformat(\u001b[39mself\u001b[39m\u001b[39m=\u001b[39m\u001b[39mself\u001b[39m) \u001b[39m+\u001b[39m \\\n\u001b[0;32m     74\u001b[0m     \u001b[39m'\u001b[39m\u001b[39m\\n\u001b[39;00m\u001b[39m   ..\u001b[39m\u001b[39m\\n\u001b[39;00m\u001b[39m'\u001b[39m\n\u001b[0;32m     75\u001b[0m nl \u001b[39m=\u001b[39m \u001b[39m'\u001b[39m\u001b[39m\\n\u001b[39;00m\u001b[39m'\u001b[39m\n",
      "File \u001b[1;32md:\\_BR+A\\_aBasecamp\\___bra_git_org\\honeybee-doe2\\honeybee_doe2\\properties\\story.py:63\u001b[0m, in \u001b[0;36m<listcomp>\u001b[1;34m(.0)\u001b[0m\n\u001b[0;32m     61\u001b[0m origin_pt \u001b[39m=\u001b[39m \u001b[39mself\u001b[39m\u001b[39m.\u001b[39mboundary_geometry\u001b[39m.\u001b[39mgeometry\u001b[39m.\u001b[39mlower_left_corner\n\u001b[0;32m     62\u001b[0m azimuth \u001b[39m=\u001b[39m \u001b[39mself\u001b[39m\u001b[39m.\u001b[39mboundary_geometry\u001b[39m.\u001b[39mazimuth\n\u001b[1;32m---> 63\u001b[0m room_objs \u001b[39m=\u001b[39m [f\u001b[39m.\u001b[39;49mproperties\u001b[39m.\u001b[39;49mdoe2\u001b[39m.\u001b[39;49mspace(origin_pt) \u001b[39mfor\u001b[39;00m f \u001b[39min\u001b[39;00m \u001b[39mself\u001b[39m\u001b[39m.\u001b[39mrooms]\n\u001b[0;32m     65\u001b[0m inp_obj \u001b[39m=\u001b[39m \u001b[39m'\u001b[39m\u001b[39m\\n\u001b[39;00m\u001b[39m\"\u001b[39m\u001b[39mLevel_\u001b[39m\u001b[39m{self.story_no}\u001b[39;00m\u001b[39m\"\u001b[39m\u001b[39m= FLOOR\u001b[39m\u001b[39m'\u001b[39m\u001b[39m.\u001b[39mformat(\u001b[39mself\u001b[39m\u001b[39m=\u001b[39m\u001b[39mself\u001b[39m) \u001b[39m+\u001b[39m \\\n\u001b[0;32m     66\u001b[0m     \u001b[39m\"\u001b[39m\u001b[39m\\n\u001b[39;00m\u001b[39m   SHAPE           = POLYGON\u001b[39m\u001b[39m\"\u001b[39m \u001b[39m+\u001b[39m \\\n\u001b[0;32m     67\u001b[0m     \u001b[39m'\u001b[39m\u001b[39m\\n\u001b[39;00m\u001b[39m   POLYGON         = \u001b[39m\u001b[39m\"\u001b[39m\u001b[39mLevel_\u001b[39m\u001b[39m{self.story_no}\u001b[39;00m\u001b[39m Plg\u001b[39m\u001b[39m\"\u001b[39m\u001b[39m'\u001b[39m\u001b[39m.\u001b[39mformat(\u001b[39mself\u001b[39m\u001b[39m=\u001b[39m\u001b[39mself\u001b[39m) \u001b[39m+\u001b[39m \\\n\u001b[1;32m   (...)\u001b[0m\n\u001b[0;32m     73\u001b[0m     \u001b[39m'\u001b[39m\u001b[39m\\n\u001b[39;00m\u001b[39m   FLOOR-HEIGHT    = \u001b[39m\u001b[39m{self.floor_to_floor_height}\u001b[39;00m\u001b[39m'\u001b[39m\u001b[39m.\u001b[39mformat(\u001b[39mself\u001b[39m\u001b[39m=\u001b[39m\u001b[39mself\u001b[39m) \u001b[39m+\u001b[39m \\\n\u001b[0;32m     74\u001b[0m     \u001b[39m'\u001b[39m\u001b[39m\\n\u001b[39;00m\u001b[39m   ..\u001b[39m\u001b[39m\\n\u001b[39;00m\u001b[39m'\u001b[39m\n\u001b[0;32m     75\u001b[0m nl \u001b[39m=\u001b[39m \u001b[39m'\u001b[39m\u001b[39m\\n\u001b[39;00m\u001b[39m'\u001b[39m\n",
      "File \u001b[1;32md:\\_BR+A\\_aBasecamp\\___bra_git_org\\honeybee-doe2\\honeybee_doe2\\properties\\room.py:130\u001b[0m, in \u001b[0;36mRoomDoe2Properties.space\u001b[1;34m(self, floor_origin)\u001b[0m\n\u001b[0;32m    128\u001b[0m \u001b[39m# obj_lines.append('   C-ACTIVITY-DESC = *{}*\\n   ..\\n'.format(str(obj.properties.energy.program_type)))\u001b[39;00m\n\u001b[0;32m    129\u001b[0m spaces \u001b[39m=\u001b[39m \u001b[39m'\u001b[39m\u001b[39m'\u001b[39m\u001b[39m.\u001b[39mjoin(obj_lines)\n\u001b[1;32m--> 130\u001b[0m walls \u001b[39m=\u001b[39m \u001b[39m'\u001b[39m\u001b[39m\\n\u001b[39;00m\u001b[39m'\u001b[39m\u001b[39m.\u001b[39mjoin([w\u001b[39m.\u001b[39mto_inp(\u001b[39mself\u001b[39m\u001b[39m.\u001b[39morigin) \u001b[39mfor\u001b[39;00m w \u001b[39min\u001b[39;00m \u001b[39mself\u001b[39;49m\u001b[39m.\u001b[39;49mwalls])\n\u001b[0;32m    131\u001b[0m roofs \u001b[39m=\u001b[39m \u001b[39m'\u001b[39m\u001b[39m\\n\u001b[39;00m\u001b[39m'\u001b[39m\u001b[39m.\u001b[39mjoin([r\u001b[39m.\u001b[39mto_inp(\u001b[39mself\u001b[39m\u001b[39m.\u001b[39morigin) \u001b[39mfor\u001b[39;00m r \u001b[39min\u001b[39;00m \u001b[39mself\u001b[39m\u001b[39m.\u001b[39mroofs])\n\u001b[0;32m    132\u001b[0m ground_floors \u001b[39m=\u001b[39m \u001b[39m'\u001b[39m\u001b[39m\\n\u001b[39;00m\u001b[39m'\u001b[39m\u001b[39m.\u001b[39mjoin(\n\u001b[0;32m    133\u001b[0m     [g\u001b[39m.\u001b[39mto_inp(\u001b[39mself\u001b[39m\u001b[39m.\u001b[39morigin) \u001b[39mfor\u001b[39;00m g \u001b[39min\u001b[39;00m \u001b[39mself\u001b[39m\u001b[39m.\u001b[39mground_contact_surfaces]\n\u001b[0;32m    134\u001b[0m )\n",
      "File \u001b[1;32md:\\_BR+A\\_aBasecamp\\___bra_git_org\\honeybee-doe2\\honeybee_doe2\\properties\\room.py:63\u001b[0m, in \u001b[0;36mRoomDoe2Properties.walls\u001b[1;34m(self)\u001b[0m\n\u001b[0;32m     59\u001b[0m \u001b[39m@property\u001b[39m\n\u001b[0;32m     60\u001b[0m \u001b[39mdef\u001b[39;00m \u001b[39mwalls\u001b[39m(\u001b[39mself\u001b[39m) \u001b[39m-\u001b[39m\u001b[39m>\u001b[39m List[DoeWall]:\n\u001b[0;32m     61\u001b[0m     \u001b[39m# * Needs to return list of DoeWall objects\u001b[39;00m\n\u001b[1;32m---> 63\u001b[0m     walls \u001b[39m=\u001b[39m [\n\u001b[0;32m     64\u001b[0m         DoeWall(face) \u001b[39mfor\u001b[39;00m face \u001b[39min\u001b[39;00m \u001b[39mself\u001b[39m\u001b[39m.\u001b[39mhost\u001b[39m.\u001b[39mfaces\n\u001b[0;32m     65\u001b[0m         \u001b[39mif\u001b[39;00m \u001b[39misinstance\u001b[39m(face\u001b[39m.\u001b[39mtype, Wall)\n\u001b[0;32m     66\u001b[0m     ]\n\u001b[0;32m     67\u001b[0m     \u001b[39mreturn\u001b[39;00m walls\n",
      "File \u001b[1;32md:\\_BR+A\\_aBasecamp\\___bra_git_org\\honeybee-doe2\\honeybee_doe2\\properties\\room.py:64\u001b[0m, in \u001b[0;36m<listcomp>\u001b[1;34m(.0)\u001b[0m\n\u001b[0;32m     59\u001b[0m \u001b[39m@property\u001b[39m\n\u001b[0;32m     60\u001b[0m \u001b[39mdef\u001b[39;00m \u001b[39mwalls\u001b[39m(\u001b[39mself\u001b[39m) \u001b[39m-\u001b[39m\u001b[39m>\u001b[39m List[DoeWall]:\n\u001b[0;32m     61\u001b[0m     \u001b[39m# * Needs to return list of DoeWall objects\u001b[39;00m\n\u001b[0;32m     63\u001b[0m     walls \u001b[39m=\u001b[39m [\n\u001b[1;32m---> 64\u001b[0m         DoeWall(face) \u001b[39mfor\u001b[39;00m face \u001b[39min\u001b[39;00m \u001b[39mself\u001b[39m\u001b[39m.\u001b[39mhost\u001b[39m.\u001b[39mfaces\n\u001b[0;32m     65\u001b[0m         \u001b[39mif\u001b[39;00m \u001b[39misinstance\u001b[39m(face\u001b[39m.\u001b[39mtype, Wall)\n\u001b[0;32m     66\u001b[0m     ]\n\u001b[0;32m     67\u001b[0m     \u001b[39mreturn\u001b[39;00m walls\n",
      "File \u001b[1;32md:\\_BR+A\\_aBasecamp\\___bra_git_org\\honeybee-doe2\\honeybee_doe2\\properties\\wall.py:7\u001b[0m, in \u001b[0;36mDoeWall.__init__\u001b[1;34m(self, face)\u001b[0m\n\u001b[0;32m      6\u001b[0m \u001b[39mdef\u001b[39;00m \u001b[39m__init__\u001b[39m(\u001b[39mself\u001b[39m, face):\n\u001b[1;32m----> 7\u001b[0m     \u001b[39mself\u001b[39m\u001b[39m.\u001b[39mface \u001b[39m=\u001b[39m face\u001b[39m.\u001b[39;49mflip()\n",
      "\u001b[1;31mAttributeError\u001b[0m: 'Face' object has no attribute 'flip'"
     ]
    }
   ],
   "source": [
    "from honeybee.model import Model\n",
    "from honeybee.room import Room\n",
    "from honeybee.face import Face\n",
    "from honeybee.shade import Shade\n",
    "from honeybee.aperture import Aperture\n",
    "from honeybee.door import Door\n",
    "from honeybee.boundarycondition import Surface\n",
    "from honeybee.facetype import face_types\n",
    "from honeybee.units import conversion_factor_to_meters\n",
    "\n",
    "from ladybug_geometry.geometry3d.pointvector import Point3D, Vector3D\n",
    "from ladybug_geometry.geometry3d.plane import Plane\n",
    "from ladybug_geometry.geometry3d.face import Face3D\n",
    "\n",
    "from honeybee_doe2.writer import model_to_inp #prolly need to add this as a model function... \n",
    "from pprint import pprint\n",
    "\n",
    "\n",
    "tmodel = Model.from_hbjson('samples\\\\hb_jsons\\\\simple_adj_with_overhang.hbjson')\n",
    "inp_model = model_to_inp(tmodel)\n",
    "\n",
    "\n",
    "with open('tests\\\\equest_inputs\\\\simple_floor_adj_overhang.inp', 'w') as f:\n",
    "    f.write(inp_model)\n",
    "    f.close\n",
    "    "
   ]
  },
  {
   "cell_type": "code",
   "execution_count": 12,
   "metadata": {},
   "outputs": [
    {
     "data": {
      "text/plain": [
       "'Room_1_0_Wall0_S Plg'"
      ]
     },
     "execution_count": 12,
     "metadata": {},
     "output_type": "execute_result"
    }
   ],
   "source": [
    "import os\n",
    "import shutil\n",
    "import subprocess\n",
    "import re\n",
    "\n",
    "testinstr = [face.properties.doe2.poly for face in tmodel.faces][0]\n",
    "\n",
    "def get_key(x):\n",
    "    return x.split('=')[0].replace('\\n', '').replace('\\\"', '').strip()\n",
    "\n",
    "def get_value(x):\n",
    "    return x.split(\n",
    "        '='\n",
    "    )[1].split('\\n')[0].strip()\n",
    "    \n",
    "def get_polyname(polystr):\n",
    "    linesplit = polystr.split('\\n')\n",
    "    for line in linesplit:\n",
    "        if 'POLYGON' in line:\n",
    "            return line.split(' ')[1].strip()\n",
    "    \n",
    "    \n",
    "def poly_name(polystr): \n",
    "    sub = re.sub('\\$.*\\n', '', polystr)\n",
    "    split = sub.split('..')\n",
    "    trimmed = {get_key(x): get_value(x) for x in split if len(x.split('='))>1\n",
    "            \n",
    "    }\n",
    "    #return trimmed\n",
    "    for k,v in trimmed.items():\n",
    "        return str(k)\n",
    "            \n",
    "            \n",
    "poly_name(testinstr)"
   ]
  },
  {
   "cell_type": "code",
   "execution_count": null,
   "metadata": {},
   "outputs": [],
   "source": []
  },
  {
   "cell_type": "code",
   "execution_count": null,
   "metadata": {},
   "outputs": [],
   "source": [
    "\"Room_1_0_Wall0_S Plg\" = POLYGON\n",
    "   V1        = ( 0.000000, 0.000000 )\n",
    "   V2        = ( 32.786885, 0.000000 )\n",
    "   V3        = ( 32.786885, 13.114754 )\n",
    "   V4        = ( 0.000000, 13.114754 )\n",
    "   .."
   ]
  }
 ],
 "metadata": {
  "kernelspec": {
   "display_name": "Python 3.9.5 ('.env': venv)",
   "language": "python",
   "name": "python3"
  },
  "language_info": {
   "codemirror_mode": {
    "name": "ipython",
    "version": 3
   },
   "file_extension": ".py",
   "mimetype": "text/x-python",
   "name": "python",
   "nbconvert_exporter": "python",
   "pygments_lexer": "ipython3",
   "version": "3.9.5"
  },
  "orig_nbformat": 4,
  "vscode": {
   "interpreter": {
    "hash": "f576465c0bc23e60f9adbda605c57e4ffa2e9d247e18f22fbcc9a9c90d757712"
   }
  }
 },
 "nbformat": 4,
 "nbformat_minor": 2
}
