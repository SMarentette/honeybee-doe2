{
 "cells": [
  {
   "cell_type": "code",
   "execution_count": 1,
   "metadata": {},
   "outputs": [],
   "source": [
    "from honeybee.model import Model\n",
    "from honeybee.room import Room\n",
    "from honeybee.face import Face\n",
    "from honeybee.shade import Shade\n",
    "from honeybee.aperture import Aperture\n",
    "from honeybee.door import Door\n",
    "from honeybee.boundarycondition import Surface\n",
    "from honeybee.facetype import face_types\n",
    "from honeybee.units import conversion_factor_to_meters\n",
    "\n",
    "from ladybug_geometry.geometry3d.pointvector import Point3D, Vector3D\n",
    "from ladybug_geometry.geometry3d.plane import Plane\n",
    "from ladybug_geometry.geometry3d.face import Face3D\n",
    "\n",
    "from honeybee_doe2.writer import model_to_inp #prolly need to add this as a model function... \n",
    "from pprint import pprint\n",
    "\n",
    "\n",
    "tmodel = Model.from_hbjson('samples\\\\hb_jsons\\\\simple_adj_with_overhang.hbjson')\n",
    "inp_model = model_to_inp(tmodel)\n",
    "\n",
    "\n",
    "with open('tests\\\\equest_inputs\\\\simple_floor_adj_overhang.inp', 'w') as f:\n",
    "    f.write(inp_model)\n",
    "    f.close\n",
    "    "
   ]
  },
  {
   "cell_type": "code",
   "execution_count": 12,
   "metadata": {},
   "outputs": [
    {
     "data": {
      "text/plain": [
       "'Room_1_0_Wall0_S Plg'"
      ]
     },
     "execution_count": 12,
     "metadata": {},
     "output_type": "execute_result"
    }
   ],
   "source": [
    "import os\n",
    "import shutil\n",
    "import subprocess\n",
    "import re\n",
    "\n",
    "testinstr = [face.properties.doe2.poly for face in tmodel.faces][0]\n",
    "\n",
    "def get_key(x):\n",
    "    return x.split('=')[0].replace('\\n', '').replace('\\\"', '').strip()\n",
    "\n",
    "def get_value(x):\n",
    "    return x.split(\n",
    "        '='\n",
    "    )[1].split('\\n')[0].strip()\n",
    "    \n",
    "def get_polyname(polystr):\n",
    "    linesplit = polystr.split('\\n')\n",
    "    for line in linesplit:\n",
    "        if 'POLYGON' in line:\n",
    "            return line.split(' ')[1].strip()\n",
    "    \n",
    "    \n",
    "def poly_name(polystr): \n",
    "    sub = re.sub('\\$.*\\n', '', polystr)\n",
    "    split = sub.split('..')\n",
    "    trimmed = {get_key(x): get_value(x) for x in split if len(x.split('='))>1\n",
    "            \n",
    "    }\n",
    "    #return trimmed\n",
    "    for k,v in trimmed.items():\n",
    "        return str(k)\n",
    "            \n",
    "            \n",
    "poly_name(testinstr)"
   ]
  },
  {
   "cell_type": "code",
   "execution_count": null,
   "metadata": {},
   "outputs": [],
   "source": []
  },
  {
   "cell_type": "code",
   "execution_count": null,
   "metadata": {},
   "outputs": [],
   "source": [
    "\"Room_1_0_Wall0_S Plg\" = POLYGON\n",
    "   V1        = ( 0.000000, 0.000000 )\n",
    "   V2        = ( 32.786885, 0.000000 )\n",
    "   V3        = ( 32.786885, 13.114754 )\n",
    "   V4        = ( 0.000000, 13.114754 )\n",
    "   .."
   ]
  }
 ],
 "metadata": {
  "kernelspec": {
   "display_name": "Python 3.9.5 ('.env': venv)",
   "language": "python",
   "name": "python3"
  },
  "language_info": {
   "codemirror_mode": {
    "name": "ipython",
    "version": 3
   },
   "file_extension": ".py",
   "mimetype": "text/x-python",
   "name": "python",
   "nbconvert_exporter": "python",
   "pygments_lexer": "ipython3",
   "version": "3.9.5"
  },
  "orig_nbformat": 4,
  "vscode": {
   "interpreter": {
    "hash": "f576465c0bc23e60f9adbda605c57e4ffa2e9d247e18f22fbcc9a9c90d757712"
   }
  }
 },
 "nbformat": 4,
 "nbformat_minor": 2
}
