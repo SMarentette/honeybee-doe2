{
 "cells": [
  {
   "cell_type": "code",
   "execution_count": 1,
   "metadata": {},
   "outputs": [
    {
     "name": "stdout",
     "output_type": "stream",
     "text": [
      "\"Walltest Plg\" = POLYGON\n",
      "   V1        = ( 0.000000, 0.000000 )\n",
      "   V2        = ( 0.000000, 10.000000 )\n",
      "   V3        = ( 0.000000, 10.000000 )\n",
      "   V4        = ( 0.000000, 0.000000 )\n",
      "   ..\n"
     ]
    }
   ],
   "source": [
    "from honeybee.face import Face\n",
    "from honeybee.facetype import face_types, Wall\n",
    "from ladybug_geometry.geometry3d.face import Face3D\n",
    "from ladybug_geometry.geometry3d.pointvector import Point3D, Vector3D\n",
    "from ladybug_geometry.geometry3d.plane import Plane\n",
    "import uuid as py_uuid\n",
    "from honeybee_doe2.geometry.polygon import DoePolygon as doepoly\n",
    "from pprint import pprint\n",
    "\n",
    "vertices = [Point3D(0, 0, 0), Point3D(0, 10, 0), Point3D(0, 10, 3), Point3D(0, 0, 3)]\n",
    "\n",
    "unique_id = str(py_uuid.uuid4())\n",
    "face = Face(unique_id, Face3D(vertices))\n",
    "face.display_name = 'Walltest'\n",
    "\n",
    "\n",
    "testpoly = doepoly.from_face(face)\n",
    "pprint(testpoly)"
   ]
  },
  {
   "cell_type": "code",
   "execution_count": 2,
   "metadata": {},
   "outputs": [
    {
     "name": "stdout",
     "output_type": "stream",
     "text": [
      "\"Walltest Plg\" = POLYGON\n",
      "   V1        = ( 0.000000, 0.000000 )\n",
      "   V2        = ( 0.000000, 10.000000 )\n",
      "   V3        = ( 0.000000, 10.000000 )\n",
      "   V4        = ( 0.000000, 0.000000 )\n",
      "   ..\n"
     ]
    }
   ],
   "source": [
    "print(face.properties.doe2.poly)"
   ]
  },
  {
   "cell_type": "code",
   "execution_count": 3,
   "metadata": {},
   "outputs": [
    {
     "name": "stdout",
     "output_type": "stream",
     "text": [
      "TITLE\n",
      "    LINE-1           = *sdf*\n",
      "    ..\n"
     ]
    }
   ],
   "source": [
    "from honeybee_doe2.properties.inputils.title import Title\n",
    "\n",
    "test = Title(title='sdf')\n",
    "print(str(test.to_inp()))"
   ]
  },
  {
   "cell_type": "code",
   "execution_count": 4,
   "metadata": {},
   "outputs": [
    {
     "name": "stdout",
     "output_type": "stream",
     "text": [
      "$---------------------------------------------------------\n",
      "$              Site and Building Data\n",
      "$---------------------------------------------------------\n",
      "\n",
      "\"Site Data\" = SITE-PARAMETERS\n",
      "  ALTITUDE          = 150\n",
      "  C-STATE           = 21\n",
      "  C-WEATHER-FILE    = *TMY2\\HARTFOCT.bin* \n",
      "  C-COUNTRY         = 1\n",
      "  C-901-LOCATION    = 1092\n",
      "  ..\n",
      "\"Building Data\" = BUILD-PARAMETERS\n",
      "  HOLIDAYS        = \"Standard US Holidays\"\n",
      "  ..\n",
      "\n",
      "\n",
      "PROJECT-DATA\n",
      "  ..\n",
      "\n",
      "\n"
     ]
    }
   ],
   "source": [
    "from honeybee_doe2.properties.inputils.sitebldg import SiteBldgData as sbd\n",
    "\n",
    "\n",
    "\n",
    "abc = sbd()\n",
    "\n",
    "print(abc.to_inp())"
   ]
  },
  {
   "cell_type": "code",
   "execution_count": 5,
   "metadata": {},
   "outputs": [
    {
     "name": "stdout",
     "output_type": "stream",
     "text": [
      "\"Double Low-E Window\" = GLASS-TYPE\n",
      "   TYPE               = SHADING-COEF\n",
      "   SHADING-COEF       = 0.48810970326870606\n",
      "   GLASS-CONDUCT      = 0.299\n",
      "   ..\n",
      "\n"
     ]
    }
   ],
   "source": [
    "from honeybee_energy.material.glazing import EnergyWindowMaterialGlazing\n",
    "from honeybee_energy.material.gas import EnergyWindowMaterialGas\n",
    "from honeybee_energy.construction.window import WindowConstruction\n",
    "\n",
    "from honeybee_doe2.properties.inputils.glass_types import GlassType\n",
    "\n",
    "\n",
    "lowe_glass = EnergyWindowMaterialGlazing(\n",
    "        'Low-e Glass', 0.00318, 0.4517, 0.359, 0.714, 0.207,\n",
    "        0, 0.84, 0.046578, 1.0)\n",
    "clear_glass = EnergyWindowMaterialGlazing(\n",
    "        'Clear Glass', 0.005715, 0.770675, 0.07, 0.8836, 0.0804,\n",
    "        0, 0.84, 0.84, 1.0)\n",
    "gap = EnergyWindowMaterialGas('air gap', thickness=0.0127)\n",
    "double_low_e = WindowConstruction(\n",
    "        'Double Low-E Window', [lowe_glass, gap, clear_glass])\n",
    "\n",
    "test_type = GlassType.from_hb_window_constr(double_low_e)\n",
    "print(test_type.to_inp())"
   ]
  },
  {
   "cell_type": "code",
   "execution_count": 4,
   "metadata": {},
   "outputs": [
    {
     "data": {
      "text/plain": [
       "[[Room: Room 43ee2, Room: Room 28562],\n",
       " [Room: Room 24600, Room: Room a9bde],\n",
       " [Room: Room 92ca2, Room: Room ae86c],\n",
       " [Room: Room 87225, Room: Room 71235],\n",
       " [Room: Room ae4e3, Room: Room ea9d1]]"
      ]
     },
     "execution_count": 4,
     "metadata": {},
     "output_type": "execute_result"
    }
   ],
   "source": [
    "from honeybee.model import Model\n",
    "from honeybee.room import Room\n",
    "from honeybee.face import Face\n",
    "from honeybee.shade import Shade\n",
    "from honeybee.aperture import Aperture\n",
    "from honeybee.door import Door\n",
    "from honeybee.boundarycondition import Surface\n",
    "from honeybee.facetype import face_types\n",
    "from honeybee.units import conversion_factor_to_meters\n",
    "\n",
    "from ladybug_geometry.geometry3d.pointvector import Point3D, Vector3D\n",
    "from ladybug_geometry.geometry3d.plane import Plane\n",
    "from ladybug_geometry.geometry3d.face import Face3D\n",
    "\n",
    "from honeybee_doe2.writer import model_to_inp #prolly need to add this as a model function... \n",
    "from pprint import pprint\n",
    "\n",
    "\n",
    "tmodel = Model.from_hbjson('samples\\cubetower.hbjson')\n",
    "\n",
    "#print(model_to_inp(tmodel))\n",
    "\n",
    "tmodel.properties.doe2.stories\n"
   ]
  },
  {
   "cell_type": "code",
   "execution_count": 14,
   "metadata": {},
   "outputs": [
    {
     "name": "stdout",
     "output_type": "stream",
     "text": [
      "0 [Polyface3D (6 faces) (8 vertices), Polyface3D (6 faces) (8 vertices)]\n",
      "1 [Polyface3D (6 faces) (8 vertices), Polyface3D (6 faces) (8 vertices)]\n",
      "2 [Polyface3D (6 faces) (8 vertices), Polyface3D (6 faces) (8 vertices)]\n",
      "3 [Polyface3D (6 faces) (8 vertices), Polyface3D (6 faces) (8 vertices)]\n",
      "4 [Polyface3D (6 faces) (8 vertices), Polyface3D (6 faces) (8 vertices)]\n"
     ]
    }
   ],
   "source": [
    "for storynumber, story in enumerate(tmodel.properties.doe2.stories):\n",
    "    print(storynumber, [room.geometry for room in story])\n",
    "    \n",
    "# idk why I'm geekin on this lol"
   ]
  },
  {
   "cell_type": "code",
   "execution_count": 4,
   "metadata": {},
   "outputs": [],
   "source": []
  },
  {
   "cell_type": "code",
   "execution_count": null,
   "metadata": {},
   "outputs": [],
   "source": []
  }
 ],
 "metadata": {
  "kernelspec": {
   "display_name": "Python 3.9.5 ('.env': venv)",
   "language": "python",
   "name": "python3"
  },
  "language_info": {
   "codemirror_mode": {
    "name": "ipython",
    "version": 3
   },
   "file_extension": ".py",
   "mimetype": "text/x-python",
   "name": "python",
   "nbconvert_exporter": "python",
   "pygments_lexer": "ipython3",
   "version": "3.9.5"
  },
  "orig_nbformat": 4,
  "vscode": {
   "interpreter": {
    "hash": "f576465c0bc23e60f9adbda605c57e4ffa2e9d247e18f22fbcc9a9c90d757712"
   }
  }
 },
 "nbformat": 4,
 "nbformat_minor": 2
}
