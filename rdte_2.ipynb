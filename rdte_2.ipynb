{
 "cells": [
  {
   "cell_type": "code",
   "execution_count": 1,
   "metadata": {},
   "outputs": [
    {
     "name": "stdout",
     "output_type": "stream",
     "text": [
      "\n",
      "\"Concrete\" = MATERIAL\n",
      "   TYPE            = PROPERTIES\n",
      "   THICKNESS       = 0.492\n",
      "   CONDUCTIVITY    = 0.732\n",
      "   DENSITY         = 144.962\n",
      "   SPECIFIC-HEAT   = 0.358\n",
      "  ..\n",
      "\n",
      "\n",
      "\"Insulation R-3\" = MATERIAL\n",
      "   TYPE            = RESISTANCE\n",
      "  ..\n",
      "\n",
      "\n",
      "\"Wall Air Gap\" = MATERIAL\n",
      "   TYPE            = PROPERTIES\n",
      "   THICKNESS       = 0.328\n",
      "   CONDUCTIVITY    = 0.212\n",
      "   DENSITY         = 0.081\n",
      "   SPECIFIC-HEAT   = 0.433\n",
      "  ..\n",
      "\n",
      "\n",
      "\"Gypsum\" = MATERIAL\n",
      "   TYPE            = PROPERTIES\n",
      "   THICKNESS       = 0.042\n",
      "   CONDUCTIVITY    = 0.051\n",
      "   DENSITY         = 49.001\n",
      "   SPECIFIC-HEAT   = 0.357\n",
      "  ..\n",
      "\n",
      "\n",
      "\"Generic Wall Construction_l\" = LAYERS\n",
      "\n",
      "   MATERIAL             = (\n",
      "      Concrete\n",
      "    Insulation R-3\n",
      "    Wall Air Gap\n",
      "    Gypsu\n",
      "   )\n",
      "\n",
      "   ..\n",
      "\n",
      "\n",
      "\"Generic Wall Construction_c\" = CONSTRUCTION\n",
      "   TYPE                 = LAYERS\n",
      "\n",
      "   ABSORPTANCE          = 0.75\n",
      "   ROUGHNESS            = 3\n",
      "   LAYERS               = \"Generic Wall Construction_l\"\n",
      "   ..\n",
      "\n"
     ]
    }
   ],
   "source": [
    "from honeybee_energy.material.opaque import EnergyMaterial, EnergyMaterialNoMass\n",
    "from honeybee_energy.construction.opaque import OpaqueConstruction\n",
    "\n",
    "from honeybee_doe2.properties.constructions import Construction\n",
    "\n",
    "\n",
    "concrete = EnergyMaterial('Concrete', 0.15, 2.31, 2322, 832, 'MediumRough',0.95, 0.75, 0.8)\n",
    "insulation = EnergyMaterialNoMass('Insulation R-3', 3, 'MediumSmooth')\n",
    "wall_gap = EnergyMaterial('Wall Air Gap', 0.1, 0.67, 1.2925, 1006.1)\n",
    "gypsum = EnergyMaterial('Gypsum', 0.0127, 0.16, 784.9, 830, 'MediumRough',0.93, 0.6, 0.65)\n",
    "wall_constr = OpaqueConstruction('Generic Wall Construction', [concrete, insulation, wall_gap, gypsum])\n",
    "\n",
    "test_constr = Construction.from_hb_construction(wall_constr)\n",
    "print(test_constr.to_inp())"
   ]
  },
  {
   "cell_type": "code",
   "execution_count": null,
   "metadata": {},
   "outputs": [],
   "source": []
  }
 ],
 "metadata": {
  "kernelspec": {
   "display_name": "Python 3.9.5 ('.env': venv)",
   "language": "python",
   "name": "python3"
  },
  "language_info": {
   "codemirror_mode": {
    "name": "ipython",
    "version": 3
   },
   "file_extension": ".py",
   "mimetype": "text/x-python",
   "name": "python",
   "nbconvert_exporter": "python",
   "pygments_lexer": "ipython3",
   "version": "3.9.5"
  },
  "orig_nbformat": 4,
  "vscode": {
   "interpreter": {
    "hash": "f576465c0bc23e60f9adbda605c57e4ffa2e9d247e18f22fbcc9a9c90d757712"
   }
  }
 },
 "nbformat": 4,
 "nbformat_minor": 2
}
