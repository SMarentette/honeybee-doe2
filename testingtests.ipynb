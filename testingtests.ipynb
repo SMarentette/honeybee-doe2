{
 "cells": [
  {
   "cell_type": "code",
   "execution_count": 1,
   "metadata": {},
   "outputs": [],
   "source": [
    "from honeybee.model import Model\n",
    "from honeybee.room import Room\n",
    "from honeybee.face import Face\n",
    "from honeybee.shade import Shade\n",
    "from honeybee.aperture import Aperture\n",
    "from honeybee.door import Door\n",
    "from honeybee.boundarycondition import Surface\n",
    "from honeybee.facetype import face_types\n",
    "from honeybee.units import conversion_factor_to_meters\n",
    "\n",
    "from ladybug_geometry.geometry3d.pointvector import Point3D, Vector3D\n",
    "from ladybug_geometry.geometry3d.plane import Plane\n",
    "from ladybug_geometry.geometry3d.face import Face3D\n",
    "\n",
    "from honeybee_doe2.writer import model_to_inp #prolly need to add this as a model function... \n",
    "from pprint import pprint\n",
    "\n",
    "import os\n",
    "import shutil\n",
    "import subprocess\n",
    "import re\n",
    "\n",
    "tmodel = Model.from_hbjson('samples\\cubetower.hbjson')\n",
    "\n",
    "with open('doe22testtest/testout.inp', 'w') as f:\n",
    " f.write(model_to_inp(tmodel))\n",
    " f.close()\n",
    "# with open('doe22testtest/testout.inp', 'r') as f:       "
   ]
  },
  {
   "cell_type": "code",
   "execution_count": 2,
   "metadata": {},
   "outputs": [
    {
     "name": "stdout",
     "output_type": "stream",
     "text": [
      "TITLE    LINE-1\n",
      "Entire Year\n",
      "Standard US Holidays\n",
      "Compliance Data\n",
      "Site Data\n",
      "Building Data\n"
     ]
    }
   ],
   "source": [
    "import os\n",
    "import shutil\n",
    "import subprocess\n",
    "import re\n",
    "\n",
    "\n",
    "\n",
    "def get_key(x):\n",
    "    return x.split('=')[0].replace('\\n', '').replace('\\\"', '').strip()\n",
    "\n",
    "def get_value(x):\n",
    "    return x.split(\n",
    "        '='\n",
    "    )[1].split('\\n')[0].strip()\n",
    "    \n",
    "\n",
    "def get_object_index(inpfile, bdlobjname):\n",
    "        '''find occurrence of bdlobjname, find next-occuring .. \n",
    "        and return tuple of start/end'''\n",
    "\n",
    "        start = 0\n",
    "        end = 0\n",
    "        isobject = False\n",
    "        linesplit = inpfile.split('\\n')\n",
    "        for num, line in enumerate(linesplit):\n",
    "            if bdlobjname == get_key(line):\n",
    "                isobject = True\n",
    "                start = num\n",
    "            if '..' in line and isobject:\n",
    "                end = num\n",
    "                isobject = False\n",
    "                return start, end\n",
    "        if start == 0 and end == 0:\n",
    "            print('error: no index found for object {0}'.format(bdlobjname))\n",
    "            return\n",
    "\n",
    "def load_inp(inppath):\n",
    "    with open(inppath, 'r') as f:\n",
    "        fl = f.readlines()\n",
    "        filething = ''.join(fl)\n",
    "        sub = re.sub('\\$.*\\n', '', filething)\n",
    "        split = sub.split('..')\n",
    "        trimmed = {get_key(x): get_value(x) for x in split if len(x.split('='))>1\n",
    "            \n",
    "        }\n",
    "        #return trimmed\n",
    "        for k,v in trimmed.items():\n",
    "            if str(k).startswith('Face') != True:\n",
    "                print(k)\n",
    "\n",
    "load_inp('doe22testtest/testout.inp')\n",
    "    \n",
    "\n"
   ]
  },
  {
   "cell_type": "code",
   "execution_count": null,
   "metadata": {},
   "outputs": [],
   "source": []
  }
 ],
 "metadata": {
  "kernelspec": {
   "display_name": "Python 3.9.5 ('.env': venv)",
   "language": "python",
   "name": "python3"
  },
  "language_info": {
   "codemirror_mode": {
    "name": "ipython",
    "version": 3
   },
   "file_extension": ".py",
   "mimetype": "text/x-python",
   "name": "python",
   "nbconvert_exporter": "python",
   "pygments_lexer": "ipython3",
   "version": "3.9.5"
  },
  "orig_nbformat": 4,
  "vscode": {
   "interpreter": {
    "hash": "f576465c0bc23e60f9adbda605c57e4ffa2e9d247e18f22fbcc9a9c90d757712"
   }
  }
 },
 "nbformat": 4,
 "nbformat_minor": 2
}
