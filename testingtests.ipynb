{
 "cells": [
  {
   "cell_type": "code",
   "execution_count": null,
   "metadata": {},
   "outputs": [],
   "source": [
    "import subprocess\n",
    "\n",
    "\n",
    "\n",
    "\n",
    "\n",
    "subprocess.call([r''])"
   ]
  }
 ],
 "metadata": {
  "kernelspec": {
   "display_name": "Python 3.9.5 64-bit",
   "language": "python",
   "name": "python3"
  },
  "language_info": {
   "name": "python",
   "version": "3.9.5"
  },
  "orig_nbformat": 4,
  "vscode": {
   "interpreter": {
    "hash": "cce1a1eb4a0c9f6f18b68a647bcde7b888ad0296d620f9feef873a096fc3cee3"
   }
  }
 },
 "nbformat": 4,
 "nbformat_minor": 2
}
