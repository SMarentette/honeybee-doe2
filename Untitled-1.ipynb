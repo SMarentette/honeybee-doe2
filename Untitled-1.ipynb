{
 "cells": [
  {
   "cell_type": "code",
   "execution_count": 2,
   "metadata": {},
   "outputs": [
    {
     "ename": "ImportError",
     "evalue": "cannot import name 'hb_model_to_inp' from 'honeybee_doe2.writer' (d:\\_BR+A\\_aBasecamp\\___bra_git_org\\honeybee-doe2\\honeybee_doe2\\writer.py)",
     "output_type": "error",
     "traceback": [
      "\u001b[1;31m---------------------------------------------------------------------------\u001b[0m",
      "\u001b[1;31mImportError\u001b[0m                               Traceback (most recent call last)",
      "Cell \u001b[1;32mIn [2], line 1\u001b[0m\n\u001b[1;32m----> 1\u001b[0m \u001b[38;5;28;01mfrom\u001b[39;00m \u001b[38;5;21;01mhoneybee_doe2\u001b[39;00m\u001b[38;5;21;01m.\u001b[39;00m\u001b[38;5;21;01mwriter\u001b[39;00m \u001b[38;5;28;01mimport\u001b[39;00m model_to_inp, hb_model_to_inp\n\u001b[0;32m      2\u001b[0m \u001b[38;5;28;01mfrom\u001b[39;00m \u001b[38;5;21;01mhoneybee\u001b[39;00m\u001b[38;5;21;01m.\u001b[39;00m\u001b[38;5;21;01mmodel\u001b[39;00m \u001b[38;5;28;01mimport\u001b[39;00m Model\n\u001b[0;32m      4\u001b[0m my_model \u001b[38;5;241m=\u001b[39m model_to_inp(Model\u001b[38;5;241m.\u001b[39mfrom_json(\u001b[38;5;124m'\u001b[39m\u001b[38;5;124mcubes.hbjson\u001b[39m\u001b[38;5;124m'\u001b[39m))\n",
      "\u001b[1;31mImportError\u001b[0m: cannot import name 'hb_model_to_inp' from 'honeybee_doe2.writer' (d:\\_BR+A\\_aBasecamp\\___bra_git_org\\honeybee-doe2\\honeybee_doe2\\writer.py)"
     ]
    }
   ],
   "source": [
    "from honeybee_doe2.writer import model_to_inp, honeybee_model_to_inp\n",
    "from honeybee.model import Model\n",
    "\n",
    "my_model = model_to_inp(Model.from_json('cubes.hbjson'))"
   ]
  },
  {
   "cell_type": "code",
   "execution_count": null,
   "metadata": {},
   "outputs": [],
   "source": []
  }
 ],
 "metadata": {
  "kernelspec": {
   "display_name": "Python 3.9.5 ('.env': venv)",
   "language": "python",
   "name": "python3"
  },
  "language_info": {
   "codemirror_mode": {
    "name": "ipython",
    "version": 3
   },
   "file_extension": ".py",
   "mimetype": "text/x-python",
   "name": "python",
   "nbconvert_exporter": "python",
   "pygments_lexer": "ipython3",
   "version": "3.9.5"
  },
  "orig_nbformat": 4,
  "vscode": {
   "interpreter": {
    "hash": "f576465c0bc23e60f9adbda605c57e4ffa2e9d247e18f22fbcc9a9c90d757712"
   }
  }
 },
 "nbformat": 4,
 "nbformat_minor": 2
}
